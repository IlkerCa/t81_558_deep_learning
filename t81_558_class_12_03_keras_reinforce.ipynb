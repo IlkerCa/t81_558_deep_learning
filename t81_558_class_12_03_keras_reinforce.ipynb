{
 "cells": [
  {
   "cell_type": "markdown",
   "metadata": {
    "colab_type": "text",
    "id": "klGNgWREsvQv"
   },
   "source": [
    "<a href=\"https://colab.research.google.com/github/jeffheaton/t81_558_deep_learning/blob/master/t81_558_class_12_03_keras_reinforce.ipynb\" target=\"_parent\"><img src=\"https://colab.research.google.com/assets/colab-badge.svg\" alt=\"Open In Colab\"/></a>"
   ]
  },
  {
   "cell_type": "markdown",
   "metadata": {
    "colab_type": "text",
    "id": "pmDI-h7cI0tI"
   },
   "source": [
    "# T81-558: Applications of Deep Neural Networks\n",
    "**Module 12: Reinforcement Learning**\n",
    "* Instructor: [Jeff Heaton](https://sites.wustl.edu/jeffheaton/), McKelvey School of Engineering, [Washington University in St. Louis](https://engineering.wustl.edu/Programs/Pages/default.aspx)\n",
    "* For more information visit the [class website](https://sites.wustl.edu/jeffheaton/t81-558/)."
   ]
  },
  {
   "cell_type": "markdown",
   "metadata": {
    "colab_type": "text",
    "id": "lsaQlK8fFQqH"
   },
   "source": [
    "# Module 12 Video Material\n",
    "\n",
    "* Part 12.1: Introduction to the OpenAI Gym [[Video]](https://www.youtube.com/watch?v=_KbUxgyisjM&list=PLjy4p-07OYzulelvJ5KVaT2pDlxivl_BN) [[Notebook]](https://github.com/jeffheaton/t81_558_deep_learning/blob/master/t81_558_class_12_01_ai_gym.ipynb)\n",
    "* Part 12.2: Introduction to Q-Learning [[Video]](https://www.youtube.com/watch?v=A3sYFcJY3lA&list=PLjy4p-07OYzulelvJ5KVaT2pDlxivl_BN) [[Notebook]](https://github.com/jeffheaton/t81_558_deep_learning/blob/master/t81_558_class_12_02_qlearningreinforcement.ipynb)\n",
    "* **Part 12.3: Keras Q-Learning in the OpenAI Gym** [[Video]](https://www.youtube.com/watch?v=qy1SJmsRhvM&list=PLjy4p-07OYzulelvJ5KVaT2pDlxivl_BN) [[Notebook]](https://github.com/jeffheaton/t81_558_deep_learning/blob/master/t81_558_class_12_03_keras_reinforce.ipynb)\n",
    "* Part 12.4: Atari Games with Keras Neural Networks [[Video]](https://www.youtube.com/watch?v=co0SwPWoZh0&list=PLjy4p-07OYzulelvJ5KVaT2pDlxivl_BN) [[Notebook]](https://github.com/jeffheaton/t81_558_deep_learning/blob/master/t81_558_class_12_04_atari.ipynb)\n",
    "* Part 12.5: Application of Reinforcement Learning [[Video]](https://www.youtube.com/watch?v=1jQPP3RfwMI&list=PLjy4p-07OYzulelvJ5KVaT2pDlxivl_BN) [[Notebook]](https://github.com/jeffheaton/t81_558_deep_learning/blob/master/t81_558_class_12_05_apply_rl.ipynb)\n"
   ]
  },
  {
   "cell_type": "markdown",
   "metadata": {
    "colab_type": "text",
    "id": "cKOCZlhUgXVK"
   },
   "source": [
    "# Google CoLab Instructions\n",
    "\n",
    "The following code ensures that Google CoLab is running the correct version of TensorFlow."
   ]
  },
  {
   "cell_type": "code",
   "execution_count": 36,
   "metadata": {
    "colab": {
     "base_uri": "https://localhost:8080/",
     "height": 35
    },
    "colab_type": "code",
    "id": "Y0WC-M08zNNq",
    "outputId": "5f25995a-aed7-4dfd-f547-5615e29d73f2"
   },
   "outputs": [
    {
     "name": "stdout",
     "output_type": "stream",
     "text": [
      "Note: using Google CoLab\n"
     ]
    }
   ],
   "source": [
    "try:\n",
    "    from google.colab import drive\n",
    "    %tensorflow_version 2.x\n",
    "    COLAB = True\n",
    "    print(\"Note: using Google CoLab\")\n",
    "except:\n",
    "    print(\"Note: not using Google CoLab\")\n",
    "    COLAB = False"
   ]
  },
  {
   "cell_type": "code",
   "execution_count": 37,
   "metadata": {
    "colab": {
     "base_uri": "https://localhost:8080/",
     "height": 139
    },
    "colab_type": "code",
    "id": "FreS1XOPzO9X",
    "outputId": "7c233a7f-c768-458b-d4e1-de7d7506f9dd"
   },
   "outputs": [
    {
     "name": "stdout",
     "output_type": "stream",
     "text": [
      "Reading package lists... Done\n",
      "Building dependency tree       \n",
      "Reading state information... Done\n",
      "x11-utils is already the newest version (7.7+3build1).\n",
      "ffmpeg is already the newest version (7:3.4.6-0ubuntu0.18.04.1).\n",
      "xvfb is already the newest version (2:1.19.6-1ubuntu4.4).\n",
      "0 upgraded, 0 newly installed, 0 to remove and 31 not upgraded.\n"
     ]
    }
   ],
   "source": [
    "if COLAB:\n",
    "  !sudo apt-get install -y xvfb ffmpeg x11-utils\n",
    "  !pip install -q 'gym==0.10.11'\n",
    "  !pip install -q 'imageio==2.4.0'\n",
    "  !pip install -q PILLOW\n",
    "  !pip install -q 'pyglet==1.3.2'\n",
    "  !pip install -q pyvirtualdisplay\n",
    "  !pip install -q tf-agents"
   ]
  },
  {
   "cell_type": "markdown",
   "metadata": {
    "colab_type": "text",
    "id": "1u9QVVsShC9X"
   },
   "source": [
    "# Part 12.3: Keras Q-Learning in the OpenAI Gym\n",
    "\n",
    "Q-Learning, as we covered in the previous part, is a robust machine learning algorithm.  Unfortunately, Q-Learning requires that the Q-table contain an entry for every possible state that the environment can take.  If the environment only includes a handful of discrete state elements, then traditional Q-learning might be a good learning algorithm.  However, if the state space is large, the Q-table can become prohibitively large.\n",
    "\n",
    "Creating policies for large state spaces is a task that Deep Q-Learning Networks (DQN) can usually handle.  Unlike a table, a neural network does not require the program to represent every combination of state and action.  Neural networks can generalize these states and learn commonalities.  A DQN maps the state to its input neurons and the action Q-values to the output neurons.  The DQN effectively becomes a function that accepts state and suggestions an action by returning the expected reward for each of the possible actions. Figure 12.DQL demonstrates the DQN structure and mapping between state and action.\n",
    "\n",
    "**Figure 12.DQL: Deep Q-Learning (DQL)**\n",
    "![Deep Q-Learning](https://raw.githubusercontent.com/jeffheaton/t81_558_deep_learning/master/images/deepqlearning.png \"Reinforcement Learning\")\n",
    "\n",
    "\n"
   ]
  },
  {
   "cell_type": "markdown",
   "metadata": {
    "colab_type": "text",
    "id": "kNrNXKI7bINP"
   },
   "source": [
    "As this diagram illustrates, the environment state contains several elements.  For the basic DQN the state can be a mix of continuous and categorical/discrete values.  For the DQN, the discrete state elements the program typically encoded as dummy variables. The actions should be discrete when your program implements a DQN.  Other algorithms support continuous outputs, which we will discuss later in this chapter.\n",
    "\n",
    "In this chapter, we will make use of [TF-Agents](https://www.tensorflow.org/agents) to implement a DQN to solve the cart-pole environment.  TF-Agents makes designing, implementing, and testing new RL algorithms easier by providing well tested modular components that can be modified and extended. It enables fast code iteration, with functional test integration and benchmarking.\n",
    "\n",
    "## DQN and the Cart-Pole Problem\n",
    "\n",
    "Barto (1983) first described the cart-pole problem. [[Cite:barto1983neuronlike]](http://www.derongliu.org/adp/adp-cdrom/Barto1983.pdf) A cart is connected to a hinged rigid pole.  The cart is free to move only in the vertical plane of the cart/track.  The agent can apply an implusive \"left\" or \"right\" force F of a fixed magnitude to the cart at discrete time intervals.  The cart-pole environment simulates the physics behind keeping the pole in a reasonably upright position on the cart.  The environment has four state variables:\n",
    "* $x$ The position of the cart on the track.\n",
    "* $\\theta$ The angle of the pole with the vertical\n",
    "* $\\dot{x}$ The cart velocity.\n",
    "* $\\dot{\\theta}$ The rate of change of the angle.\n",
    "\n",
    "The action space consists of discrete actions:\n",
    "* Apply force left\n",
    "* Apply force right\n",
    "\n",
    "To apply DQN to this problem, you need to create the following components for TF-Agents.\n",
    "\n",
    "* Environment\n",
    "* Agent\n",
    "* Policies\n",
    "* Metrics and Evaluation\n",
    "* Replay Buffer\n",
    "* Data Collection\n",
    "* Training\n",
    "\n",
    "These components are standard in most DQN implementations.  Later, we will apply these same components to an Atari game, and after that, a problem of our design. This example is based on the [cart-pole tutorial](https://github.com/tensorflow/agents/blob/master/docs/tutorials/1_dqn_tutorial.ipynb) provided for TF-Agents.  We begin by importing needed Python libraries.\n"
   ]
  },
  {
   "cell_type": "code",
   "execution_count": 0,
   "metadata": {
    "colab": {},
    "colab_type": "code",
    "id": "sMitx5qSgJk1"
   },
   "outputs": [],
   "source": [
    "import base64\n",
    "import imageio\n",
    "import IPython\n",
    "import matplotlib\n",
    "import matplotlib.pyplot as plt\n",
    "import numpy as np\n",
    "import PIL.Image\n",
    "import pyvirtualdisplay\n",
    "\n",
    "import tensorflow as tf\n",
    "\n",
    "from tf_agents.agents.dqn import dqn_agent\n",
    "from tf_agents.drivers import dynamic_step_driver\n",
    "from tf_agents.environments import suite_gym\n",
    "from tf_agents.environments import tf_py_environment\n",
    "from tf_agents.eval import metric_utils\n",
    "from tf_agents.metrics import tf_metrics\n",
    "from tf_agents.networks import q_network\n",
    "from tf_agents.policies import random_tf_policy\n",
    "from tf_agents.replay_buffers import tf_uniform_replay_buffer\n",
    "from tf_agents.trajectories import trajectory\n",
    "from tf_agents.utils import common"
   ]
  },
  {
   "cell_type": "code",
   "execution_count": 0,
   "metadata": {
    "colab": {},
    "colab_type": "code",
    "id": "J6HsdS5GbSjd"
   },
   "outputs": [],
   "source": [
    "# Set up a virtual display for rendering OpenAI gym environments.\n",
    "display = pyvirtualdisplay.Display(visible=0, size=(1400, 900)).start()"
   ]
  },
  {
   "cell_type": "markdown",
   "metadata": {
    "colab_type": "text",
    "id": "LmC0NDhdLIKY"
   },
   "source": [
    "## Hyperparameters\n",
    "\n",
    "Several hyperparameters must be defined.  The TF-Agent example provided reasonably well-tuned hyperparameters for cart-pole.  Later we will adapt these to an Atari game."
   ]
  },
  {
   "cell_type": "code",
   "execution_count": 0,
   "metadata": {
    "colab": {},
    "colab_type": "code",
    "id": "HC1kNrOsLSIZ"
   },
   "outputs": [],
   "source": [
    "# How long should training run?\n",
    "num_iterations = 20000 \n",
    "# How many initial random steps, before training start, to\n",
    "# collect initial data.\n",
    "initial_collect_steps = 1000   \n",
    "# How many steps should we run each iteration to collect \n",
    "# data from.\n",
    "collect_steps_per_iteration = 1 \n",
    "# How much data should we store for training examples.\n",
    "replay_buffer_max_length = 100000\n",
    "\n",
    "batch_size = 64  \n",
    "learning_rate = 1e-3 \n",
    "# How often should the program provide an update.\n",
    "log_interval = 200  \n",
    "\n",
    "# How many episodes should the program use for each evaluation.\n",
    "num_eval_episodes = 10\n",
    "# How often should an evaluation occur.\n",
    "eval_interval = 1000  "
   ]
  },
  {
   "cell_type": "markdown",
   "metadata": {
    "colab_type": "text",
    "id": "VMsJC3DEgI0x"
   },
   "source": [
    "## Environment\n",
    "\n",
    "TF-Agents uses OpenAI gym environments to represent the task or problem to be solved. Standard environments can be created in TF-Agents using **tf_agents.environments** suites. TF-Agents has suites for loading environments from sources such as the OpenAI Gym, Atari, and DM Control. We begin by loading the CartPole environment from the OpenAI Gym suite. "
   ]
  },
  {
   "cell_type": "code",
   "execution_count": 0,
   "metadata": {
    "colab": {},
    "colab_type": "code",
    "id": "pYEz-S9gEv2-"
   },
   "outputs": [],
   "source": [
    "env_name = 'CartPole-v0'\n",
    "env = suite_gym.load(env_name)"
   ]
  },
  {
   "cell_type": "markdown",
   "metadata": {
    "colab_type": "text",
    "id": "IIHYVBkuvPNw"
   },
   "source": [
    "We will quickly render this environment to see the visual representation."
   ]
  },
  {
   "cell_type": "code",
   "execution_count": 42,
   "metadata": {
    "colab": {
     "base_uri": "https://localhost:8080/",
     "height": 417
    },
    "colab_type": "code",
    "id": "RlO7WIQHu_7D",
    "outputId": "80809f67-ea56-4fe6-d0d1-cc7e5822e0a8"
   },
   "outputs": [
    {
     "data": {
      "image/png": "[encoded data removed]",
      "text/plain": [
       "<PIL.Image.Image image mode=RGB size=600x400 at 0x7F478C3F0128>"
      ]
     },
     "execution_count": 42,
     "metadata": {
      "tags": []
     },
     "output_type": "execute_result"
    }
   ],
   "source": [
    "env.reset()\n",
    "PIL.Image.fromarray(env.render())"
   ]
  },
  {
   "cell_type": "markdown",
   "metadata": {
    "colab_type": "text",
    "id": "B9_lskPOey18"
   },
   "source": [
    "The `environment.step` method takes an `action` in the environment and returns a `TimeStep` tuple containing the next observation of the environment and the reward for the action.\n",
    "\n",
    "The `time_step_spec()` method returns the specification for the `TimeStep` tuple. Its `observation` attribute shows the shape of observations, the data types, and the ranges of allowed values. The `reward` attribute shows the same details for the reward.\n"
   ]
  },
  {
   "cell_type": "code",
   "execution_count": 43,
   "metadata": {
    "colab": {
     "base_uri": "https://localhost:8080/",
     "height": 72
    },
    "colab_type": "code",
    "id": "exDv57iHfwQV",
    "outputId": "d2fa3ab5-fc87-4547-d2a6-5088c1f79e49"
   },
   "outputs": [
    {
     "name": "stdout",
     "output_type": "stream",
     "text": [
      "Observation Spec:\n",
      "BoundedArraySpec(shape=(4,), dtype=dtype('float32'), name='observation', minimum=[-4.8000002e+00 -3.4028235e+38 -4.1887903e-01 -3.4028235e+38], maximum=[4.8000002e+00 3.4028235e+38 4.1887903e-01 3.4028235e+38])\n"
     ]
    }
   ],
   "source": [
    "print('Observation Spec:')\n",
    "print(env.time_step_spec().observation)"
   ]
  },
  {
   "cell_type": "code",
   "execution_count": 44,
   "metadata": {
    "colab": {
     "base_uri": "https://localhost:8080/",
     "height": 52
    },
    "colab_type": "code",
    "id": "UxiSyCbBUQPi",
    "outputId": "d076d38a-c64d-41f1-c1c1-754575fabb4f"
   },
   "outputs": [
    {
     "name": "stdout",
     "output_type": "stream",
     "text": [
      "Reward Spec:\n",
      "ArraySpec(shape=(), dtype=dtype('float32'), name='reward')\n"
     ]
    }
   ],
   "source": [
    "print('Reward Spec:')\n",
    "print(env.time_step_spec().reward)"
   ]
  },
  {
   "cell_type": "markdown",
   "metadata": {
    "colab_type": "text",
    "id": "b_lHcIcqUaqB"
   },
   "source": [
    "The `action_spec()` method returns the shape, data types, and allowed values of valid actions."
   ]
  },
  {
   "cell_type": "code",
   "execution_count": 45,
   "metadata": {
    "colab": {
     "base_uri": "https://localhost:8080/",
     "height": 72
    },
    "colab_type": "code",
    "id": "bttJ4uxZUQBr",
    "outputId": "3306c5c7-7462-4162-ae68-3404f898d744"
   },
   "outputs": [
    {
     "name": "stdout",
     "output_type": "stream",
     "text": [
      "Action Spec:\n",
      "BoundedArraySpec(shape=(), dtype=dtype('int64'), name='action', minimum=0, maximum=1)\n"
     ]
    }
   ],
   "source": [
    "print('Action Spec:')\n",
    "print(env.action_spec())"
   ]
  },
  {
   "cell_type": "markdown",
   "metadata": {
    "colab_type": "text",
    "id": "eJCgJnx3g0yY"
   },
   "source": [
    "In the Cartpole environment:\n",
    "\n",
    "-   `observation` is an array of 4 floats: \n",
    "    -   the position and velocity of the cart\n",
    "    -   the angular position and velocity of the pole \n",
    "-   `reward` is a scalar float value\n",
    "-   `action` is a scalar integer with only two possible values:\n",
    "    -   `0` — \"move left\"\n",
    "    -   `1` — \"move right\"\n"
   ]
  },
  {
   "cell_type": "code",
   "execution_count": 46,
   "metadata": {
    "colab": {
     "base_uri": "https://localhost:8080/",
     "height": 107
    },
    "colab_type": "code",
    "id": "V2UGR5t_iZX-",
    "outputId": "c8754ed2-00f1-4a91-9abd-b71771a8674e"
   },
   "outputs": [
    {
     "name": "stdout",
     "output_type": "stream",
     "text": [
      "Time step:\n",
      "TimeStep(step_type=array(0, dtype=int32), reward=array(0., dtype=float32), discount=array(1., dtype=float32), observation=array([-0.00263771,  0.04141404, -0.02421604, -0.02355336], dtype=float32))\n",
      "Next time step:\n",
      "TimeStep(step_type=array(1, dtype=int32), reward=array(1., dtype=float32), discount=array(1., dtype=float32), observation=array([-0.00180943,  0.23687476, -0.02468711, -0.3237773 ], dtype=float32))\n"
     ]
    }
   ],
   "source": [
    "time_step = env.reset()\n",
    "print('Time step:')\n",
    "print(time_step)\n",
    "\n",
    "action = np.array(1, dtype=np.int32)\n",
    "\n",
    "next_time_step = env.step(action)\n",
    "print('Next time step:')\n",
    "print(next_time_step)"
   ]
  },
  {
   "cell_type": "markdown",
   "metadata": {
    "colab_type": "text",
    "id": "4JSc9GviWUBK"
   },
   "source": [
    "Usually, the program instantiates two environments: one for training and one for evaluation. "
   ]
  },
  {
   "cell_type": "code",
   "execution_count": 0,
   "metadata": {
    "colab": {},
    "colab_type": "code",
    "id": "N7brXNIGWXjC"
   },
   "outputs": [],
   "source": [
    "train_py_env = suite_gym.load(env_name)\n",
    "eval_py_env = suite_gym.load(env_name)"
   ]
  },
  {
   "cell_type": "markdown",
   "metadata": {
    "colab_type": "text",
    "id": "zuUqXAVmecTU"
   },
   "source": [
    "The Cartpole environment, like most environments, is written in pure Python and is converted to TF-Agents and TensorFlow using the **TFPyEnvironment** wrapper. The original environment's API uses Numpy arrays. The **TFPyEnvironment** turns these to **Tensors** to make it compatible with Tensorflow agents and policies.\n"
   ]
  },
  {
   "cell_type": "code",
   "execution_count": 0,
   "metadata": {
    "colab": {},
    "colab_type": "code",
    "id": "Xp-Y4mD6eDhF"
   },
   "outputs": [],
   "source": [
    "train_env = tf_py_environment.TFPyEnvironment(train_py_env)\n",
    "eval_env = tf_py_environment.TFPyEnvironment(eval_py_env)"
   ]
  },
  {
   "cell_type": "markdown",
   "metadata": {
    "colab_type": "text",
    "id": "E9lW_OZYFR8A"
   },
   "source": [
    "## Agent\n",
    "\n",
    "An Agent represents the algorithm used to solve an RL problem. TF-Agents provides standard implementations of a variety of Agents:\n",
    "\n",
    "-   [DQN](https://storage.googleapis.com/deepmind-media/dqn/DQNNaturePaper.pdf) (used in this example)\n",
    "-   [REINFORCE](http://www-anw.cs.umass.edu/~barto/courses/cs687/williams92simple.pdf)\n",
    "-   [DDPG](https://arxiv.org/pdf/1509.02971.pdf)\n",
    "-   [TD3](https://arxiv.org/pdf/1802.09477.pdf)\n",
    "-   [PPO](https://arxiv.org/abs/1707.06347)\n",
    "-   [SAC](https://arxiv.org/abs/1801.01290).\n",
    "\n",
    "You can only use the DQN agent in environments which have a discrete action space.  The DQN makes use of a QNetwork, a neural network model that learns to predict Q-Values (expected returns) for all actions, given a state from the environment.\n",
    "\n",
    "The following code uses **tf_agents.networks.q_network** to create a QNetwork, passing in the **observation_spec**, **action_spec**, and a tuple describing the number and size of the model's hidden layers.\n"
   ]
  },
  {
   "cell_type": "code",
   "execution_count": 0,
   "metadata": {
    "colab": {},
    "colab_type": "code",
    "id": "TgkdEPg_muzV"
   },
   "outputs": [],
   "source": [
    "fc_layer_params = (100,)\n",
    "\n",
    "q_net = q_network.QNetwork(\n",
    "    train_env.observation_spec(),\n",
    "    train_env.action_spec(),\n",
    "    fc_layer_params=fc_layer_params)"
   ]
  },
  {
   "cell_type": "markdown",
   "metadata": {
    "colab_type": "text",
    "id": "z62u55hSmviJ"
   },
   "source": [
    "Now we use **tf_agents.agents.dqn.dqn_agent** to instantiate a **DqnAgent**. In addition to the **time_step_spec**, **action_spec** and the QNetwork, the agent constructor also requires an optimizer (in this case, **AdamOptimizer**), a loss function, and an integer step counter."
   ]
  },
  {
   "cell_type": "code",
   "execution_count": 0,
   "metadata": {
    "colab": {},
    "colab_type": "code",
    "id": "jbY4yrjTEyc9"
   },
   "outputs": [],
   "source": [
    "optimizer = tf.compat.v1.train.AdamOptimizer(learning_rate=learning_rate)\n",
    "\n",
    "train_step_counter = tf.Variable(0)\n",
    "\n",
    "agent = dqn_agent.DqnAgent(\n",
    "    train_env.time_step_spec(),\n",
    "    train_env.action_spec(),\n",
    "    q_network=q_net,\n",
    "    optimizer=optimizer,\n",
    "    td_errors_loss_fn=common.element_wise_squared_loss,\n",
    "    train_step_counter=train_step_counter)\n",
    "\n",
    "agent.initialize()"
   ]
  },
  {
   "cell_type": "markdown",
   "metadata": {
    "colab_type": "text",
    "id": "I0KLrEPwkn5x"
   },
   "source": [
    "## Policies\n",
    "\n",
    "A policy defines the way an agent acts in an environment. Typically, the goal of reinforcement learning is to train the underlying model until the policy produces the desired outcome.\n",
    "\n",
    "In this example:\n",
    "\n",
    "* The desired outcome is keeping the pole balanced upright over the cart.\n",
    "* The policy returns an action (left or right) for each `time_step` observation.\n",
    "\n",
    "Agents contain two policies: \n",
    "\n",
    "*  **agent.policy** -  The algorithm uses this main policy for evaluation and deployment.\n",
    "* **agent.collect_policy** - The algorithm this secondary policy for data collection.\n"
   ]
  },
  {
   "cell_type": "code",
   "execution_count": 0,
   "metadata": {
    "colab": {},
    "colab_type": "code",
    "id": "BwY7StuMkuV4"
   },
   "outputs": [],
   "source": [
    "eval_policy = agent.policy\n",
    "collect_policy = agent.collect_policy"
   ]
  },
  {
   "cell_type": "markdown",
   "metadata": {
    "colab_type": "text",
    "id": "2Qs1Fl3dV0ae"
   },
   "source": [
    "Policies can be created independently of agents. For example, use **tf_agents.policies.random_tf_policy** to create a policy which will randomly select an action for each **time_step**. We will use this random policy to create initial collection data to begin training."
   ]
  },
  {
   "cell_type": "code",
   "execution_count": 0,
   "metadata": {
    "colab": {},
    "colab_type": "code",
    "id": "HE37-UCIrE69"
   },
   "outputs": [],
   "source": [
    "random_policy = random_tf_policy.RandomTFPolicy(train_env.time_step_spec(),\n",
    "                                                train_env.action_spec())"
   ]
  },
  {
   "cell_type": "markdown",
   "metadata": {
    "colab_type": "text",
    "id": "dOlnlRRsUbxP"
   },
   "source": [
    "To get an action from a policy, call the **policy.action(time_step)** method. The **time_step** contains the observation from the environment. This method returns a **PolicyStep**, which is a named tuple with three components:\n",
    "\n",
    "* **action** - The action to be taken (in this case, 0 or 1).\n",
    "* **state** - Used for stateful (that is, RNN-based) policies.\n",
    "* **info** - Auxiliary data, such as log probabilities of actions.\n",
    "\n",
    "Next we create an environment and setup the random policy."
   ]
  },
  {
   "cell_type": "code",
   "execution_count": 53,
   "metadata": {
    "colab": {
     "base_uri": "https://localhost:8080/",
     "height": 55
    },
    "colab_type": "code",
    "id": "5gCcpXswVAxk",
    "outputId": "930ea39a-2f76-4580-efc9-68580f813016"
   },
   "outputs": [
    {
     "data": {
      "text/plain": [
       "PolicyStep(action=<tf.Tensor: shape=(1,), dtype=int64, numpy=array([0])>, state=(), info=())"
      ]
     },
     "execution_count": 53,
     "metadata": {
      "tags": []
     },
     "output_type": "execute_result"
    }
   ],
   "source": [
    "example_environment = tf_py_environment.TFPyEnvironment(\n",
    "    suite_gym.load('CartPole-v0'))\n",
    "time_step = example_environment.reset()\n",
    "random_policy.action(time_step)"
   ]
  },
  {
   "cell_type": "markdown",
   "metadata": {
    "colab_type": "text",
    "id": "94rCXQtbUbXv"
   },
   "source": [
    "## Metrics and Evaluation\n",
    "\n",
    "The most common metric used to evaluate a policy is the average return. The return is the sum of rewards obtained while running a policy in an environment for an episode. Several episodes are run, creating an average return. The following function computes the average return of a policy, given the policy, environment, and a number of episodes.  We will use this same evaluation for Atari.\n"
   ]
  },
  {
   "cell_type": "code",
   "execution_count": 0,
   "metadata": {
    "colab": {},
    "colab_type": "code",
    "id": "bitzHo5_UbXy"
   },
   "outputs": [],
   "source": [
    "def compute_avg_return(environment, policy, num_episodes=10):\n",
    "\n",
    "  total_return = 0.0\n",
    "  for _ in range(num_episodes):\n",
    "\n",
    "    time_step = environment.reset()\n",
    "    episode_return = 0.0\n",
    "\n",
    "    while not time_step.is_last():\n",
    "      action_step = policy.action(time_step)\n",
    "      time_step = environment.step(action_step.action)\n",
    "      episode_return += time_step.reward\n",
    "    total_return += episode_return\n",
    "\n",
    "  avg_return = total_return / num_episodes\n",
    "  return avg_return.numpy()[0]\n",
    "\n",
    "\n",
    "# See also the metrics module for standard implementations \n",
    "# of different metrics.\n",
    "# https://github.com/tensorflow/agents/tree/master/tf_agents/metrics"
   ]
  },
  {
   "cell_type": "markdown",
   "metadata": {
    "colab_type": "text",
    "id": "_snCVvq5Z8lJ"
   },
   "source": [
    "Running this computation on the `random_policy` shows a baseline performance in the environment."
   ]
  },
  {
   "cell_type": "code",
   "execution_count": 55,
   "metadata": {
    "colab": {
     "base_uri": "https://localhost:8080/",
     "height": 35
    },
    "colab_type": "code",
    "id": "9bgU6Q6BZ8Bp",
    "outputId": "faac7766-d5ff-4ce0-a7a4-3caa70d07a3c"
   },
   "outputs": [
    {
     "data": {
      "text/plain": [
       "19.8"
      ]
     },
     "execution_count": 55,
     "metadata": {
      "tags": []
     },
     "output_type": "execute_result"
    }
   ],
   "source": [
    "compute_avg_return(eval_env, random_policy, num_eval_episodes)"
   ]
  },
  {
   "cell_type": "markdown",
   "metadata": {
    "colab_type": "text",
    "id": "NLva6g2jdWgr"
   },
   "source": [
    "## Replay Buffer\n",
    "\n",
    "The replay buffer keeps track of data collected from the environment. This tutorial uses **TFUniformReplayBuffer**. The constructor requires the specs for the data it will be collecting. This value is available from the agent using the **collect_data_spec** method. The batch size and maximum buffer length are also required.\n"
   ]
  },
  {
   "cell_type": "code",
   "execution_count": 0,
   "metadata": {
    "colab": {},
    "colab_type": "code",
    "id": "vX2zGUWJGWAl"
   },
   "outputs": [],
   "source": [
    "replay_buffer = tf_uniform_replay_buffer.TFUniformReplayBuffer(\n",
    "    data_spec=agent.collect_data_spec,\n",
    "    batch_size=train_env.batch_size,\n",
    "    max_length=replay_buffer_max_length)"
   ]
  },
  {
   "cell_type": "markdown",
   "metadata": {
    "colab_type": "text",
    "id": "ZGNTDJpZs4NN"
   },
   "source": [
    "For most agents, **collect_data_spec** is a named tuple called **Trajectory**, containing the specs for observations, actions, rewards, and other items."
   ]
  },
  {
   "cell_type": "code",
   "execution_count": 57,
   "metadata": {
    "colab": {
     "base_uri": "https://localhost:8080/",
     "height": 89
    },
    "colab_type": "code",
    "id": "_IZ-3HcqgE1z",
    "outputId": "801659c4-e3c0-40de-ed3a-287183813052"
   },
   "outputs": [
    {
     "data": {
      "text/plain": [
       "Trajectory(step_type=TensorSpec(shape=(), dtype=tf.int32, name='step_type'), observation=BoundedTensorSpec(shape=(4,), dtype=tf.float32, name='observation', minimum=array([-4.8000002e+00, -3.4028235e+38, -4.1887903e-01, -3.4028235e+38],\n",
       "      dtype=float32), maximum=array([4.8000002e+00, 3.4028235e+38, 4.1887903e-01, 3.4028235e+38],\n",
       "      dtype=float32)), action=BoundedTensorSpec(shape=(), dtype=tf.int64, name='action', minimum=array(0), maximum=array(1)), policy_info=(), next_step_type=TensorSpec(shape=(), dtype=tf.int32, name='step_type'), reward=TensorSpec(shape=(), dtype=tf.float32, name='reward'), discount=BoundedTensorSpec(shape=(), dtype=tf.float32, name='discount', minimum=array(0., dtype=float32), maximum=array(1., dtype=float32)))"
      ]
     },
     "execution_count": 57,
     "metadata": {
      "tags": []
     },
     "output_type": "execute_result"
    }
   ],
   "source": [
    "agent.collect_data_spec"
   ]
  },
  {
   "cell_type": "markdown",
   "metadata": {
    "colab_type": "text",
    "id": "rVD5nQ9ZGo8_"
   },
   "source": [
    "## Data Collection\n",
    "\n",
    "Now execute the random policy in the environment for a few steps, recording the data in the replay buffer."
   ]
  },
  {
   "cell_type": "code",
   "execution_count": 0,
   "metadata": {
    "colab": {},
    "colab_type": "code",
    "id": "wr1KSAEGG4h9"
   },
   "outputs": [],
   "source": [
    "def collect_step(environment, policy, buffer):\n",
    "  time_step = environment.current_time_step()\n",
    "  action_step = policy.action(time_step)\n",
    "  next_time_step = environment.step(action_step.action)\n",
    "  traj = trajectory.from_transition(time_step, action_step, next_time_step)\n",
    "\n",
    "  # Add trajectory to the replay buffer\n",
    "  buffer.add_batch(traj)\n",
    "\n",
    "def collect_data(env, policy, buffer, steps):\n",
    "  for _ in range(steps):\n",
    "    collect_step(env, policy, buffer)\n",
    "\n",
    "collect_data(train_env, random_policy, replay_buffer, steps=100)\n",
    "\n",
    "# This loop is so common in RL, that we provide standard implementations. \n",
    "# For more details see the drivers module.\n",
    "# https://www.tensorflow.org/agents/api_docs/python/tf_agents/drivers"
   ]
  },
  {
   "cell_type": "markdown",
   "metadata": {
    "colab_type": "text",
    "id": "84z5pQJdoKxo"
   },
   "source": [
    "The replay buffer is now a collection of Trajectories. The agent needs access to the replay buffer. TF-Agents provides this access by creating an iterable **tf.data.Dataset** pipeline, which will feed data to the agent.\n",
    "\n",
    "Each row of the replay buffer only stores a single observation step. But since the DQN Agent needs both the current and next observation to compute the loss, the dataset pipeline will sample two adjacent rows for each item in the batch (**num_steps=2**).\n",
    "\n",
    "The program also optimizes this dataset by running parallel calls and prefetching data."
   ]
  },
  {
   "cell_type": "code",
   "execution_count": 59,
   "metadata": {
    "colab": {
     "base_uri": "https://localhost:8080/",
     "height": 55
    },
    "colab_type": "code",
    "id": "ba7bilizt_qW",
    "outputId": "4e936689-1eb9-48a0-d8cf-b3dd5364763c"
   },
   "outputs": [
    {
     "data": {
      "text/plain": [
       "<PrefetchDataset shapes: (Trajectory(step_type=(64, 2), observation=(64, 2, 4), action=(64, 2), policy_info=(), next_step_type=(64, 2), reward=(64, 2), discount=(64, 2)), BufferInfo(ids=(64, 2), probabilities=(64,))), types: (Trajectory(step_type=tf.int32, observation=tf.float32, action=tf.int64, policy_info=(), next_step_type=tf.int32, reward=tf.float32, discount=tf.float32), BufferInfo(ids=tf.int64, probabilities=tf.float32))>"
      ]
     },
     "execution_count": 59,
     "metadata": {
      "tags": []
     },
     "output_type": "execute_result"
    }
   ],
   "source": [
    "# Dataset generates trajectories with shape [Bx2x...]\n",
    "dataset = replay_buffer.as_dataset(\n",
    "    num_parallel_calls=3, \n",
    "    sample_batch_size=batch_size, \n",
    "    num_steps=2).prefetch(3)\n",
    "\n",
    "\n",
    "dataset"
   ]
  },
  {
   "cell_type": "code",
   "execution_count": 60,
   "metadata": {
    "colab": {
     "base_uri": "https://localhost:8080/",
     "height": 55
    },
    "colab_type": "code",
    "id": "K13AST-2ppOq",
    "outputId": "97ff10f3-df62-46a4-b094-ef29c954fa01"
   },
   "outputs": [
    {
     "name": "stdout",
     "output_type": "stream",
     "text": [
      "<tensorflow.python.data.ops.iterator_ops.OwnedIterator object at 0x7f478c078470>\n"
     ]
    }
   ],
   "source": [
    "iterator = iter(dataset)\n",
    "\n",
    "print(iterator)\n"
   ]
  },
  {
   "cell_type": "markdown",
   "metadata": {
    "colab_type": "text",
    "id": "hBc9lj9VWWtZ"
   },
   "source": [
    "## Training the agent\n",
    "\n",
    "Two things must happen during the training loop:\n",
    "\n",
    "* Collect data from the environment\n",
    "* Use that data to train the agent's neural network(s)\n",
    "\n",
    "This example also periodically evaluates the policy and prints the current score.\n",
    "\n",
    "The following will take ~5 minutes to run."
   ]
  },
  {
   "cell_type": "code",
   "execution_count": 61,
   "metadata": {
    "colab": {
     "base_uri": "https://localhost:8080/",
     "height": 1000
    },
    "colab_type": "code",
    "id": "0pTbJ3PeyF-u",
    "outputId": "e26938c6-8432-468c-da19-29cd047ff7d3"
   },
   "outputs": [
    {
     "name": "stdout",
     "output_type": "stream",
     "text": [
      "step = 200: loss = 14.340982437133789\n",
      "step = 400: loss = 10.511648178100586\n",
      "step = 600: loss = 3.2730941772460938\n",
      "step = 800: loss = 3.8935298919677734\n",
      "step = 1000: loss = 14.826580047607422\n",
      "step = 1000: Average Return = 9.100000381469727\n",
      "step = 1200: loss = 9.10183048248291\n",
      "step = 1400: loss = 10.874725341796875\n",
      "step = 1600: loss = 4.35567045211792\n",
      "step = 1800: loss = 8.448399543762207\n",
      "step = 2000: loss = 7.585771560668945\n",
      "step = 2000: Average Return = 20.200000762939453\n",
      "step = 2200: loss = 7.654891014099121\n",
      "step = 2400: loss = 11.028305053710938\n",
      "step = 2600: loss = 12.608250617980957\n",
      "step = 2800: loss = 13.256738662719727\n",
      "step = 3000: loss = 30.816816329956055\n",
      "step = 3000: Average Return = 37.70000076293945\n",
      "step = 3200: loss = 21.835247039794922\n",
      "step = 3400: loss = 53.17047119140625\n",
      "step = 3600: loss = 6.833275318145752\n",
      "step = 3800: loss = 16.286394119262695\n",
      "step = 4000: loss = 25.00135040283203\n",
      "step = 4000: Average Return = 103.30000305175781\n",
      "step = 4200: loss = 43.546104431152344\n",
      "step = 4400: loss = 3.731997013092041\n",
      "step = 4600: loss = 75.63728332519531\n",
      "step = 4800: loss = 107.29979705810547\n",
      "step = 5000: loss = 9.427044868469238\n",
      "step = 5000: Average Return = 137.8000030517578\n",
      "step = 5200: loss = 62.89168167114258\n",
      "step = 5400: loss = 13.465617179870605\n",
      "step = 5600: loss = 53.18938446044922\n",
      "step = 5800: loss = 155.7638397216797\n",
      "step = 6000: loss = 11.364056587219238\n",
      "step = 6000: Average Return = 167.89999389648438\n",
      "step = 6200: loss = 10.468281745910645\n",
      "step = 6400: loss = 59.47686004638672\n",
      "step = 6600: loss = 343.947998046875\n",
      "step = 6800: loss = 11.620660781860352\n",
      "step = 7000: loss = 12.66282844543457\n",
      "step = 7000: Average Return = 171.8000030517578\n",
      "step = 7200: loss = 81.08990478515625\n",
      "step = 7400: loss = 249.7529754638672\n",
      "step = 7600: loss = 386.6427307128906\n",
      "step = 7800: loss = 43.43695068359375\n",
      "step = 8000: loss = 154.05523681640625\n",
      "step = 8000: Average Return = 169.1999969482422\n",
      "step = 8200: loss = 69.90873718261719\n",
      "step = 8400: loss = 37.758968353271484\n",
      "step = 8600: loss = 611.2081298828125\n",
      "step = 8800: loss = 325.1220703125\n",
      "step = 9000: loss = 20.591163635253906\n",
      "step = 9000: Average Return = 184.89999389648438\n",
      "step = 9200: loss = 9.961896896362305\n",
      "step = 9400: loss = 317.8338623046875\n",
      "step = 9600: loss = 150.50827026367188\n",
      "step = 9800: loss = 30.060428619384766\n",
      "step = 10000: loss = 414.7579345703125\n",
      "step = 10000: Average Return = 195.3000030517578\n",
      "step = 10200: loss = 23.874332427978516\n",
      "step = 10400: loss = 227.998779296875\n",
      "step = 10600: loss = 120.26659393310547\n",
      "step = 10800: loss = 407.195068359375\n",
      "step = 11000: loss = 108.7122802734375\n",
      "step = 11000: Average Return = 196.60000610351562\n",
      "step = 11200: loss = 34.91999435424805\n",
      "step = 11400: loss = 21.491458892822266\n",
      "step = 11600: loss = 230.8614044189453\n",
      "step = 11800: loss = 191.45889282226562\n",
      "step = 12000: loss = 40.43107986450195\n",
      "step = 12000: Average Return = 200.0\n",
      "step = 12200: loss = 21.565082550048828\n",
      "step = 12400: loss = 13.755500793457031\n",
      "step = 12600: loss = 897.4873046875\n",
      "step = 12800: loss = 25.081298828125\n",
      "step = 13000: loss = 17.91368865966797\n",
      "step = 13000: Average Return = 200.0\n",
      "step = 13200: loss = 24.762317657470703\n",
      "step = 13400: loss = 50.36970901489258\n",
      "step = 13600: loss = 22.713003158569336\n",
      "step = 13800: loss = 64.13186645507812\n",
      "step = 14000: loss = 56.712677001953125\n",
      "step = 14000: Average Return = 199.5\n",
      "step = 14200: loss = 20.873737335205078\n",
      "step = 14400: loss = 797.7457275390625\n",
      "step = 14600: loss = 31.020126342773438\n",
      "step = 14800: loss = 18.545364379882812\n",
      "step = 15000: loss = 2175.260986328125\n",
      "step = 15000: Average Return = 200.0\n",
      "step = 15200: loss = 240.38592529296875\n",
      "step = 15400: loss = 379.7501220703125\n",
      "step = 15600: loss = 40.91584777832031\n",
      "step = 15800: loss = 1671.0428466796875\n",
      "step = 16000: loss = 2511.267578125\n",
      "step = 16000: Average Return = 199.3000030517578\n",
      "step = 16200: loss = 489.4286804199219\n",
      "step = 16400: loss = 39.57353591918945\n",
      "step = 16600: loss = 2562.288818359375\n",
      "step = 16800: loss = 49.76080322265625\n",
      "step = 17000: loss = 65.82229614257812\n",
      "step = 17000: Average Return = 200.0\n",
      "step = 17200: loss = 48.96404266357422\n",
      "step = 17400: loss = 458.40484619140625\n",
      "step = 17600: loss = 90.22862243652344\n",
      "step = 17800: loss = 37.06523132324219\n",
      "step = 18000: loss = 1116.674072265625\n",
      "step = 18000: Average Return = 200.0\n",
      "step = 18200: loss = 1176.351318359375\n",
      "step = 18400: loss = 1209.5531005859375\n",
      "step = 18600: loss = 1016.182373046875\n",
      "step = 18800: loss = 53.385101318359375\n",
      "step = 19000: loss = 49.58342742919922\n",
      "step = 19000: Average Return = 200.0\n",
      "step = 19200: loss = 584.42822265625\n",
      "step = 19400: loss = 28.240354537963867\n",
      "step = 19600: loss = 60.595802307128906\n",
      "step = 19800: loss = 56.309600830078125\n",
      "step = 20000: loss = 62.594276428222656\n",
      "step = 20000: Average Return = 200.0\n"
     ]
    }
   ],
   "source": [
    "# (Optional) Optimize by wrapping some of the code in a graph \n",
    "# using TF function.\n",
    "agent.train = common.function(agent.train)\n",
    "\n",
    "# Reset the train step\n",
    "agent.train_step_counter.assign(0)\n",
    "\n",
    "# Evaluate the agent's policy once before training.\n",
    "avg_return = compute_avg_return(eval_env, agent.policy, \\\n",
    "                                num_eval_episodes)\n",
    "returns = [avg_return]\n",
    "\n",
    "for _ in range(num_iterations):\n",
    "\n",
    "  # Collect a few steps using collect_policy and save to the replay buffer.\n",
    "  for _ in range(collect_steps_per_iteration):\n",
    "    collect_step(train_env, agent.collect_policy, replay_buffer)\n",
    "\n",
    "  # Sample a batch of data from the buffer and update the agent's network.\n",
    "  experience, unused_info = next(iterator)\n",
    "  train_loss = agent.train(experience).loss\n",
    "\n",
    "  step = agent.train_step_counter.numpy()\n",
    "\n",
    "  if step % log_interval == 0:\n",
    "    print('step = {0}: loss = {1}'.format(step, train_loss))\n",
    "\n",
    "  if step % eval_interval == 0:\n",
    "    avg_return = compute_avg_return(eval_env, agent.policy, \\\n",
    "                                    num_eval_episodes)\n",
    "    print('step = {0}: Average Return = {1}'.format(step, avg_return))\n",
    "    returns.append(avg_return)"
   ]
  },
  {
   "cell_type": "markdown",
   "metadata": {
    "colab_type": "text",
    "id": "68jNcA_TiJDq"
   },
   "source": [
    "## Visualization\n"
   ]
  },
  {
   "cell_type": "markdown",
   "metadata": {
    "colab_type": "text",
    "id": "aO-LWCdbbOIC"
   },
   "source": [
    "### Plots\n",
    "\n",
    "Use **matplotlib.pyplot** to chart how the policy improved during training.\n",
    "\n",
    "One iteration of **Cartpole-v0** consists of 200 time steps. The environment gives a reward of `+1` for each step the pole stays up, so the maximum return for one episode is 200. The charts show the return increasing towards that maximum each time it is evaluated during training. (It may be a little unstable and not increase each time monotonically.)"
   ]
  },
  {
   "cell_type": "code",
   "execution_count": 62,
   "metadata": {
    "colab": {
     "base_uri": "https://localhost:8080/",
     "height": 301
    },
    "colab_type": "code",
    "id": "NxtL1mbOYCVO",
    "outputId": "1409307e-bff5-4c8c-ee14-5d47f5be8e98"
   },
   "outputs": [
    {
     "data": {
      "text/plain": [
       "(-0.44499959945678746, 250.0)"
      ]
     },
     "execution_count": 62,
     "metadata": {
      "tags": []
     },
     "output_type": "execute_result"
    },
    {
     "data": {
      "image/png": "[encoded data removed]",
      "text/plain": [
       "<Figure size 432x288 with 1 Axes>"
      ]
     },
     "metadata": {
      "needs_background": "light",
      "tags": []
     },
     "output_type": "display_data"
    }
   ],
   "source": [
    "iterations = range(0, num_iterations + 1, eval_interval)\n",
    "plt.plot(iterations, returns)\n",
    "plt.ylabel('Average Return')\n",
    "plt.xlabel('Iterations')\n",
    "plt.ylim(top=250)"
   ]
  },
  {
   "cell_type": "markdown",
   "metadata": {
    "colab_type": "text",
    "id": "M7-XpPP99Cy7"
   },
   "source": [
    "### Videos"
   ]
  },
  {
   "cell_type": "markdown",
   "metadata": {
    "colab_type": "text",
    "id": "9pGfGxSH32gn"
   },
   "source": [
    "Charts are nice. But more exciting is seeing an agent actually performing a task in an environment. \n",
    "\n",
    "First, create a function to embed videos in the notebook."
   ]
  },
  {
   "cell_type": "code",
   "execution_count": 0,
   "metadata": {
    "colab": {},
    "colab_type": "code",
    "id": "ULaGr8pvOKbl"
   },
   "outputs": [],
   "source": [
    "def embed_mp4(filename):\n",
    "  \"\"\"Embeds an mp4 file in the notebook.\"\"\"\n",
    "  video = open(filename,'rb').read()\n",
    "  b64 = base64.b64encode(video)\n",
    "  tag = '''\n",
    "  <video width=\"640\" height=\"480\" controls>\n",
    "    <source src=\"data:video/mp4;base64,{0}\" type=\"video/mp4\">\n",
    "  Your browser does not support the video tag.\n",
    "  </video>'''.format(b64.decode())\n",
    "\n",
    "  return IPython.display.HTML(tag)"
   ]
  },
  {
   "cell_type": "markdown",
   "metadata": {
    "colab_type": "text",
    "id": "9c_PH-pX4Pr5"
   },
   "source": [
    "Now iterate through a few episodes of the Cartpole game with the agent. The underlying Python environment (the one \"inside\" the TensorFlow environment wrapper) provides a `render()` method, which outputs an image of the environment state. These can be collected into a video."
   ]
  },
  {
   "cell_type": "code",
   "execution_count": 64,
   "metadata": {
    "colab": {
     "base_uri": "https://localhost:8080/",
     "height": 539
    },
    "colab_type": "code",
    "id": "owOVWB158NlF",
    "outputId": "6cbb5962-93a6-4304-dee3-a765a67919b1"
   },
   "outputs": [
    {
     "name": "stderr",
     "output_type": "stream",
     "text": [
      "WARNING:root:IMAGEIO FFMPEG_WRITER WARNING: input image is not divisible by macro_block_size=16, resizing from (400, 600) to (400, 608) to ensure video compatibility with most codecs and players. To prevent resizing, make your input image divisible by the macro_block_size or set the macro_block_size to None (risking incompatibility). You may also see a FFMPEG warning concerning speedloss due to data not being aligned.\n"
     ]
    },
    {
     "data": {
      "text/html": [
       "\n",
       "  <video width=\"640\" height=\"480\" controls>\n",
       "    <source src=\"data:video/mp4;base64,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\" type=\"video/mp4\">\n",
       "  Your browser does not support the video tag.\n",
       "  </video>"
      ],
      "text/plain": [
       "<IPython.core.display.HTML object>"
      ]
     },
     "execution_count": 64,
     "metadata": {
      "tags": []
     },
     "output_type": "execute_result"
    }
   ],
   "source": [
    "def create_policy_eval_video(policy, filename, num_episodes=5, fps=30):\n",
    "  filename = filename + \".mp4\"\n",
    "  with imageio.get_writer(filename, fps=fps) as video:\n",
    "    for _ in range(num_episodes):\n",
    "      time_step = eval_env.reset()\n",
    "      video.append_data(eval_py_env.render())\n",
    "      while not time_step.is_last():\n",
    "        action_step = policy.action(time_step)\n",
    "        time_step = eval_env.step(action_step.action)\n",
    "        video.append_data(eval_py_env.render())\n",
    "  return embed_mp4(filename)\n",
    "\n",
    "\n",
    "\n",
    "\n",
    "create_policy_eval_video(agent.policy, \"trained-agent\")"
   ]
  },
  {
   "cell_type": "markdown",
   "metadata": {
    "colab_type": "text",
    "id": "povaAOcZygLw"
   },
   "source": [
    "For fun, compare the trained agent (above) to an agent moving randomly. (It does not do as well.)"
   ]
  },
  {
   "cell_type": "code",
   "execution_count": 65,
   "metadata": {
    "colab": {
     "base_uri": "https://localhost:8080/",
     "height": 539
    },
    "colab_type": "code",
    "id": "pJZIdC37yNH4",
    "outputId": "e3c5ca7e-00a4-401a-b934-2c15b4296e02"
   },
   "outputs": [
    {
     "name": "stderr",
     "output_type": "stream",
     "text": [
      "WARNING:root:IMAGEIO FFMPEG_WRITER WARNING: input image is not divisible by macro_block_size=16, resizing from (400, 600) to (400, 608) to ensure video compatibility with most codecs and players. To prevent resizing, make your input image divisible by the macro_block_size or set the macro_block_size to None (risking incompatibility). You may also see a FFMPEG warning concerning speedloss due to data not being aligned.\n"
     ]
    },
    {
     "data": {
      "text/html": [
       "\n",
       "  <video width=\"640\" height=\"480\" controls>\n",
       "    <source src=\"data:video/mp4;base64,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\" type=\"video/mp4\">\n",
       "  Your browser does not support the video tag.\n",
       "  </video>"
      ],
      "text/plain": [
       "<IPython.core.display.HTML object>"
      ]
     },
     "execution_count": 65,
     "metadata": {
      "tags": []
     },
     "output_type": "execute_result"
    }
   ],
   "source": [
    "create_policy_eval_video(random_policy, \"random-agent\")"
   ]
  }
 ],
 "metadata": {
  "anaconda-cloud": {},
  "kernelspec": {
   "display_name": "Python 3.9 (tensorflow)",
   "language": "python",
   "name": "tensorflow"
  },
  "language_info": {
   "codemirror_mode": {
    "name": "ipython",
    "version": 3
   },
   "file_extension": ".py",
   "mimetype": "text/x-python",
   "name": "python",
   "nbconvert_exporter": "python",
   "pygments_lexer": "ipython3",
   "version": "3.9.7"
  }
 },
 "nbformat": 4,
 "nbformat_minor": 1
}
