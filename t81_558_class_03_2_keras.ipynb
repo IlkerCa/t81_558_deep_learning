{
 "cells": [
  {
   "cell_type": "markdown",
   "metadata": {
    "id": "bLEEW13uCtiJ"
   },
   "source": [
    "<a href=\"https://colab.research.google.com/github/jeffheaton/t81_558_deep_learning/blob/master/t81_558_class_03_2_keras.ipynb\" target=\"_parent\"><img src=\"https://colab.research.google.com/assets/colab-badge.svg\" alt=\"Open In Colab\"/></a>"
   ]
  },
  {
   "cell_type": "markdown",
   "metadata": {
    "id": "5oX6K_-JCtiL"
   },
   "source": [
    "# T81-558: Applications of Deep Neural Networks\n",
    "**Module 3: Introduction to TensorFlow**\n",
    "* Instructor: [Jeff Heaton](https://sites.wustl.edu/jeffheaton/), McKelvey School of Engineering, [Washington University in St. Louis](https://engineering.wustl.edu/Programs/Pages/default.aspx)\n",
    "* For more information visit the [class website](https://sites.wustl.edu/jeffheaton/t81-558/)."
   ]
  },
  {
   "cell_type": "markdown",
   "metadata": {
    "id": "FzlMdsudCtiL"
   },
   "source": [
    "# Module 3 Material\n",
    "\n",
    "* Part 3.1: Deep Learning and Neural Network Introduction [[Video]](https://www.youtube.com/watch?v=zYnI4iWRmpc&list=PLjy4p-07OYzulelvJ5KVaT2pDlxivl_BN) [[Notebook]](https://github.com/jeffheaton/t81_558_deep_learning/blob/master/t81_558_class_03_1_neural_net.ipynb)\n",
    "* **Part 3.2: Introduction to Tensorflow and Keras** [[Video]](https://www.youtube.com/watch?v=PsE73jk55cE&list=PLjy4p-07OYzulelvJ5KVaT2pDlxivl_BN) [[Notebook]](https://github.com/jeffheaton/t81_558_deep_learning/blob/master/t81_558_class_03_2_keras.ipynb)\n",
    "* Part 3.3: Saving and Loading a Keras Neural Network [[Video]](https://www.youtube.com/watch?v=-9QfbGM1qGw&list=PLjy4p-07OYzulelvJ5KVaT2pDlxivl_BN) [[Notebook]](https://github.com/jeffheaton/t81_558_deep_learning/blob/master/t81_558_class_03_3_save_load.ipynb)\n",
    "* Part 3.4: Early Stopping in Keras to Prevent Overfitting [[Video]](https://www.youtube.com/watch?v=m1LNunuI2fk&list=PLjy4p-07OYzulelvJ5KVaT2pDlxivl_BN) [[Notebook]](https://github.com/jeffheaton/t81_558_deep_learning/blob/master/t81_558_class_03_4_early_stop.ipynb)\n",
    "* Part 3.5: Extracting Weights and Manual Calculation [[Video]](https://www.youtube.com/watch?v=7PWgx16kH8s&list=PLjy4p-07OYzulelvJ5KVaT2pDlxivl_BN) [[Notebook]](https://github.com/jeffheaton/t81_558_deep_learning/blob/master/t81_558_class_03_5_weights.ipynb)"
   ]
  },
  {
   "cell_type": "markdown",
   "metadata": {
    "id": "CpVJpj2DCtiM"
   },
   "source": [
    "# Google CoLab Instructions\n",
    "\n",
    "The following code ensures that Google CoLab is running the correct version of TensorFlow."
   ]
  },
  {
   "cell_type": "code",
   "execution_count": 1,
   "metadata": {
    "colab": {
     "base_uri": "https://localhost:8080/"
    },
    "id": "wU1AMzx8CtiM",
    "outputId": "9783a6d5-c6b8-433a-b832-1f83ea7d8007"
   },
   "outputs": [
    {
     "name": "stdout",
     "output_type": "stream",
     "text": [
      "Note: using Google CoLab\n"
     ]
    }
   ],
   "source": [
    "try:\n",
    "    %tensorflow_version 2.x\n",
    "    COLAB = True\n",
    "    print(\"Note: using Google CoLab\")\n",
    "except:\n",
    "    print(\"Note: not using Google CoLab\")\n",
    "    COLAB = False"
   ]
  },
  {
   "cell_type": "markdown",
   "metadata": {
    "id": "pOY9MHVrCtiM"
   },
   "source": [
    "# Part 3.2: Introduction to Tensorflow and Keras\n",
    "\n",
    "TensorFlow is an open-source software library for machine learning in various kinds of perceptual and language understanding tasks. It is currently used for both research and production by different teams in many commercial Google products, such as speech recognition, Gmail, Google Photos, and search, many of which had previously used its predecessor DistBelief. TensorFlow was originally developed by the Google Brain team for Google's research and production purposes and later released under the Apache 2.0 open source license on November 9, 2015.\n",
    "\n",
    "* [TensorFlow Homepage](https://www.tensorflow.org/)\n",
    "* [TensorFlow GitHib](https://github.com/tensorflow/tensorflow)\n",
    "* [TensorFlow Google Groups Support](https://groups.google.com/forum/#!forum/tensorflow)\n",
    "* [TensorFlow Google Groups Developer Discussion](https://groups.google.com/a/tensorflow.org/forum/#!forum/discuss)\n",
    "* [TensorFlow FAQ](https://www.tensorflow.org/resources/faq)\n"
   ]
  },
  {
   "cell_type": "markdown",
   "metadata": {
    "id": "1Zg-zNx0CtiN"
   },
   "source": [
    "## Why TensorFlow\n",
    "\n",
    "* Supported by Google\n",
    "* Works well on Windows, Linux, and Mac\n",
    "* Excellent GPU support\n",
    "* Python is an easy to learn programming language\n",
    "* Python is extremely popular in the data science community\n",
    "\n",
    "## Deep Learning Tools\n",
    "TensorFlow is not the only game in town. The biggest competitor to TensorFlow/Keras is PyTorch. Listed below are some of the deep learning toolkits actively being supported:\n",
    "\n",
    "* **[TensorFlow](https://www.tensorflow.org/)** - Google's deep learning API.  The focus of this class, along with Keras.\n",
    "* **[Keras](https://keras.io/)** - Also by Google, higher level framework that allows the use of TensorFlow, MXNet and Theano interchangeably.\n",
    "* **[PyTorch](https://pytorch.org/)** - PyTorch is an open source machine learning library based on the Torch library, used for applications such as computer vision and natural language processing. It is primarily developed by Facebook's AI Research lab. \n",
    "\n",
    "Other deep learning tools:\n",
    "\n",
    "* **[MXNet](https://mxnet.incubator.apache.org/)** Apache foundation's deep learning API. Can be used through Keras.\n",
    "* **[Torch](http://torch.ch/)** is used by Google DeepMind, the Facebook AI Research Group, IBM, Yandex and the Idiap Research Institute.  It has been used for some of the most advanced deep learning projects in the world.  However, it requires the [LUA](https://en.wikipedia.org/wiki/Lua_(programming_language))** programming language.  It is very advanced, but it is not mainstream.  I have not worked with Torch (yet!).\n",
    "* **[PaddlePaddle](https://github.com/baidu/Paddle)** - [Baidu](http://www.baidu.com/)'s deep learning API.\n",
    "* **[Deeplearning4J](http://deeplearning4j.org/)** - Java based. Supports all major platforms. GPU support in Java!\n",
    "* **[Computational Network Toolkit (CNTK)](https://github.com/Microsoft/CNTK)** - Microsoft.  Support for Windows/Linux, command line only.  Bindings for predictions for C#/Python. GPU support.\n",
    "* **[H2O](http://www.h2o.ai/)** - Java based.  Supports all major platforms.  Limited support for computer vision. No GPU support.\n",
    "\n",
    "In my opinion, the two primary Python libraries for deep learning are PyTorch and Keras. Generally, PyTorch requires more lines of code to perform the deep learning applications presented in this course.  This trait of PyTorch gives Keras an easier learning curve than PyTorch.  However, if you are creating entirely new neural network structures, in a research setting, PyTorch can make for easier access to some of the low-level internals of deep learning.\n",
    "\n",
    "## Using TensorFlow Directly\n",
    "\n",
    "Most of the time in the course, we will communicate with TensorFlow using Keras [[Cite:franccois2017deep]](https://www.manning.com/books/deep-learning-with-python), which allows you to specify the number of hidden layers and create the neural network.  TensorFlow is a low-level mathematics API, similar to [Numpy](http://www.numpy.org/).  However, unlike Numpy, TensorFlow is built for deep learning. TensorFlow compiles these compute graphs into highly efficient C++/[CUDA](https://en.wikipedia.org/wiki/CUDA) code.\n",
    "\n",
    "### TensorFlow Linear Algebra Examples\n",
    "\n",
    "TensorFlow is a library for linear algebra.  Keras is a higher-level abstraction for neural networks that you build upon TensorFlow.  In this section, I will demonstrate some basic linear algebra that employs TensorFlow directly and does not make use of Keras.  First, we will see how to multiply a row and column matrix."
   ]
  },
  {
   "cell_type": "code",
   "execution_count": 2,
   "metadata": {
    "colab": {
     "base_uri": "https://localhost:8080/"
    },
    "id": "bkh9pHqPCtiO",
    "outputId": "c2b05474-0644-4c5c-c7fc-fb94e1e6a69d"
   },
   "outputs": [
    {
     "name": "stdout",
     "output_type": "stream",
     "text": [
      "tf.Tensor([[12.]], shape=(1, 1), dtype=float32)\n",
      "12.0\n"
     ]
    }
   ],
   "source": [
    "import tensorflow as tf\n",
    "\n",
    "# Create a Constant op that produces a 1x2 matrix.  The op is\n",
    "# added as a node to the default graph.\n",
    "#\n",
    "# The value returned by the constructor represents the output\n",
    "# of the Constant op.\n",
    "matrix1 = tf.constant([[3., 3.]])\n",
    "\n",
    "# Create another Constant that produces a 2x1 matrix.\n",
    "matrix2 = tf.constant([[2.],[2.]])\n",
    "\n",
    "# Create a Matmul op that takes 'matrix1' and 'matrix2' as inputs.\n",
    "# The returned value, 'product', represents the result of the matrix\n",
    "# multiplication.\n",
    "product = tf.matmul(matrix1, matrix2)\n",
    "\n",
    "print(product)\n",
    "print(float(product))"
   ]
  },
  {
   "cell_type": "markdown",
   "metadata": {
    "id": "pMrXqwskCtiP"
   },
   "source": [
    "This example multiplied two TensorFlow constant tensors.  Next, we will see how to subtract a constant from a variable."
   ]
  },
  {
   "cell_type": "code",
   "execution_count": 3,
   "metadata": {
    "colab": {
     "base_uri": "https://localhost:8080/"
    },
    "id": "qKyFCaoTCtiP",
    "outputId": "3c75a8cf-8d1c-48df-fb71-f603053cf616"
   },
   "outputs": [
    {
     "name": "stdout",
     "output_type": "stream",
     "text": [
      "tf.Tensor([-2. -1.], shape=(2,), dtype=float32)\n",
      "[-2. -1.]\n"
     ]
    }
   ],
   "source": [
    "import tensorflow as tf\n",
    "\n",
    "x = tf.Variable([1.0, 2.0])\n",
    "a = tf.constant([3.0, 3.0])\n",
    "\n",
    "# Add an op to subtract 'a' from 'x'.  Run it and print the result\n",
    "sub = tf.subtract(x, a)\n",
    "print(sub)\n",
    "print(sub.numpy())\n",
    "# ==> [-2. -1.]"
   ]
  },
  {
   "cell_type": "markdown",
   "metadata": {
    "id": "epQ9LrM6CtiP"
   },
   "source": [
    "Of course, variables are only useful if their values can be changed.  The program can accomplish this change in value by calling the assign function."
   ]
  },
  {
   "cell_type": "code",
   "execution_count": 4,
   "metadata": {
    "colab": {
     "base_uri": "https://localhost:8080/"
    },
    "id": "vtnW5aU-CtiP",
    "outputId": "77d3ae14-dfac-4877-dd7f-d30ae9c9751d"
   },
   "outputs": [
    {
     "data": {
      "text/plain": [
       "<tf.Variable 'UnreadVariable' shape=(2,) dtype=float32, numpy=array([4., 6.], dtype=float32)>"
      ]
     },
     "execution_count": 4,
     "metadata": {},
     "output_type": "execute_result"
    }
   ],
   "source": [
    "x.assign([4.0, 6.0])"
   ]
  },
  {
   "cell_type": "markdown",
   "metadata": {
    "id": "zHwJP8MjCtiQ"
   },
   "source": [
    "The program can now perform the subtraction with this new value."
   ]
  },
  {
   "cell_type": "code",
   "execution_count": 5,
   "metadata": {
    "colab": {
     "base_uri": "https://localhost:8080/"
    },
    "id": "0e26Fe-GCtiQ",
    "outputId": "979cf4e5-4d6d-45e2-c7a7-c12e6b169baf"
   },
   "outputs": [
    {
     "name": "stdout",
     "output_type": "stream",
     "text": [
      "tf.Tensor([1. 3.], shape=(2,), dtype=float32)\n",
      "[1. 3.]\n"
     ]
    }
   ],
   "source": [
    "sub = tf.subtract(x, a)\n",
    "print(sub)\n",
    "print(sub.numpy())"
   ]
  },
  {
   "cell_type": "markdown",
   "metadata": {
    "id": "Rq61YFBYCtiQ"
   },
   "source": [
    "In the next section, we will see a TensorFlow example that has nothing to do with neural networks."
   ]
  },
  {
   "cell_type": "markdown",
   "metadata": {
    "id": "iMVIS9pBCtiQ"
   },
   "source": [
    "### TensorFlow Mandelbrot Set Example\n",
    "\n",
    "Next, we examine another example where we use TensorFlow directly.  To demonstrate that TensorFlow is mathematical and does not only provide neural networks, we will also first use it for a non-machine learning rendering task. The code presented here is capable of rendering a [Mandelbrot set](https://en.wikipedia.org/wiki/Mandelbrot_set). Note, I based this example on a Mandelbrot example that I found [here]( https://chromium.googlesource.com/external/github.com/tensorflow/tensorflow/+/r0.10/tensorflow/g3doc/tutorials/mandelbrot/index.md). I've updated the code slightly to comply with current versions of TensorFlow."
   ]
  },
  {
   "cell_type": "code",
   "execution_count": 6,
   "metadata": {
    "colab": {
     "base_uri": "https://localhost:8080/",
     "height": 537
    },
    "id": "v4ll1OLwCtiQ",
    "outputId": "e0f9479e-7bd7-4c4f-f8dc-b658a72ee747"
   },
   "outputs": [
    {
     "data": {
      "image/jpeg": "[encoded data removed]",
      "text/plain": [
       "<IPython.core.display.Image object>"
      ]
     },
     "metadata": {},
     "output_type": "display_data"
    }
   ],
   "source": [
    "# Import libraries for simulation\n",
    "import tensorflow as tf\n",
    "import numpy as np\n",
    "\n",
    "# Imports for visualization\n",
    "import PIL.Image\n",
    "from io import BytesIO\n",
    "from IPython.display import Image, display\n",
    "\n",
    "def DisplayFractal(a, fmt='jpeg'):\n",
    "  \"\"\"Display an array of iteration counts as a\n",
    "     colorful picture of a fractal.\"\"\"\n",
    "  a_cyclic = (6.28*a/20.0).reshape(list(a.shape)+[1])\n",
    "  img = np.concatenate([10+20*np.cos(a_cyclic),\n",
    "                        30+50*np.sin(a_cyclic),\n",
    "                        155-80*np.cos(a_cyclic)], 2)\n",
    "  img[a==a.max()] = 0\n",
    "  a = img\n",
    "  a = np.uint8(np.clip(a, 0, 255))\n",
    "  f = BytesIO()\n",
    "  PIL.Image.fromarray(a).save(f, fmt)\n",
    "  display(Image(data=f.getvalue()))\n",
    "\n",
    "# Use NumPy to create a 2D array of complex numbers\n",
    "\n",
    "Y, X = np.mgrid[-1.3:1.3:0.005, -2:1:0.005]\n",
    "Z = X+1j*Y\n",
    "\n",
    "xs = tf.constant(Z.astype(np.complex64))\n",
    "zs = tf.Variable(xs)\n",
    "ns = tf.Variable(tf.zeros_like(xs, tf.float32))\n",
    "\n",
    "\n",
    "\n",
    "# Operation to update the zs and the iteration count.\n",
    "#\n",
    "# Note: We keep computing zs after they diverge! This\n",
    "#       is very wasteful! There are better, if a little\n",
    "#       less simple, ways to do this.\n",
    "#\n",
    "for i in range(200):\n",
    "    # Compute the new values of z: z^2 + x\n",
    "    zs_ = zs*zs + xs\n",
    "\n",
    "    # Have we diverged with this new value?\n",
    "    not_diverged = tf.abs(zs_) < 4\n",
    "\n",
    "    zs.assign(zs_),\n",
    "    ns.assign_add(tf.cast(not_diverged, tf.float32))\n",
    "    \n",
    "DisplayFractal(ns.numpy())"
   ]
  },
  {
   "cell_type": "markdown",
   "metadata": {
    "id": "AtvjPq7HCtiQ"
   },
   "source": [
    "Mandlebrot render is both simple and infinitely complex at the same time. This view shows the entire Mandlebrot universe at the same time, as it is completely zoomed out. However, if you zoom in on any non-black portion of the plot, you will find infinite hidden complexity. "
   ]
  },
  {
   "cell_type": "markdown",
   "metadata": {
    "id": "ZeWypKgGCtiR"
   },
   "source": [
    "### Introduction to Keras\n",
    "\n",
    "[Keras](https://keras.io/) is a layer on top of Tensorflow that makes it much easier to create neural networks.  Rather than define the graphs, as you see above, you set the individual layers of the network with a much more high-level API.  Unless you are performing research into entirely new structures of deep neural networks, it is unlikely that you need to program TensorFlow directly.  \n",
    "\n",
    "**For this class, we will use usually use TensorFlow through Keras, rather than direct TensorFlow**\n",
    "\n",
    "### Simple TensorFlow Regression: MPG\n",
    "\n",
    "This example shows how to encode the MPG dataset for regression.  This dataset is slightly more complicated than Iris, because:\n",
    "\n",
    "* Input has both numeric and categorical\n",
    "* Input has missing values\n",
    "\n",
    "This example uses functions defined above in this notepad, the \"helpful functions\". These functions allow you to build the feature vector for a neural network. Consider the following:\n",
    "\n",
    "* Predictors/Inputs \n",
    "    * Fill any missing inputs with the median for that column.  Use **missing_median**.\n",
    "    * Encode textual/categorical values with **encode_text_dummy**.\n",
    "    * Encode numeric values with **encode_numeric_zscore**.\n",
    "* Output\n",
    "    * Discard rows with missing outputs.\n",
    "    * Encode textual/categorical values with **encode_text_index**.\n",
    "    * Do not encode output numeric values.\n",
    "* Produce final feature vectors (x) and expected output (y) with **to_xy**.\n",
    "\n",
    "To encode categorical values that are part of the feature vector, use the functions from above if the categorical value is the target (as was the case with Iris, use the same technique as Iris). The iris technique allows you to decode back to Iris text strings from the predictions."
   ]
  },
  {
   "cell_type": "code",
   "execution_count": 5,
   "metadata": {
    "colab": {
     "base_uri": "https://localhost:8080/"
    },
    "id": "bmb3cFrUCtiR",
    "outputId": "6aee69f2-aa06-411d-a7be-4362e4e35f7b"
   },
   "outputs": [
    {
     "name": "stdout",
     "output_type": "stream",
     "text": [
      "[[  8.  307.  130.  ...  12.   70.    1. ]\n",
      " [  8.  350.  165.  ...  11.5  70.    1. ]\n",
      " [  8.  318.  150.  ...  11.   70.    1. ]\n",
      " ...\n",
      " [  4.  135.   84.  ...  11.6  82.    1. ]\n",
      " [  4.  120.   79.  ...  18.6  82.    1. ]\n",
      " [  4.  119.   82.  ...  19.4  82.    1. ]]\n",
      "Epoch 1/100\n",
      "13/13 - 0s - loss: 600158.6875\n",
      "Epoch 2/100\n",
      "13/13 - 0s - loss: 184852.1562\n"
     ]
    },
    {
     "name": "stderr",
     "output_type": "stream",
     "text": [
      "2021-12-27 20:22:54.780703: I tensorflow/core/grappler/optimizers/custom_graph_optimizer_registry.cc:112] Plugin optimizer for device_type GPU is enabled.\n"
     ]
    },
    {
     "name": "stdout",
     "output_type": "stream",
     "text": [
      "Epoch 3/100\n",
      "13/13 - 0s - loss: 29805.2910\n",
      "Epoch 4/100\n",
      "13/13 - 0s - loss: 915.2904\n",
      "Epoch 5/100\n",
      "13/13 - 0s - loss: 1691.7726\n",
      "Epoch 6/100\n",
      "13/13 - 0s - loss: 907.7947\n",
      "Epoch 7/100\n",
      "13/13 - 0s - loss: 169.0947\n",
      "Epoch 8/100\n",
      "13/13 - 0s - loss: 154.0438\n",
      "Epoch 9/100\n",
      "13/13 - 0s - loss: 140.1226\n",
      "Epoch 10/100\n",
      "13/13 - 0s - loss: 124.2579\n",
      "Epoch 11/100\n",
      "13/13 - 0s - loss: 123.7924\n",
      "Epoch 12/100\n",
      "13/13 - 0s - loss: 120.8102\n",
      "Epoch 13/100\n",
      "13/13 - 0s - loss: 118.5779\n",
      "Epoch 14/100\n",
      "13/13 - 0s - loss: 116.0786\n",
      "Epoch 15/100\n",
      "13/13 - 0s - loss: 113.8047\n",
      "Epoch 16/100\n",
      "13/13 - 0s - loss: 111.7344\n",
      "Epoch 17/100\n",
      "13/13 - 0s - loss: 109.8769\n",
      "Epoch 18/100\n",
      "13/13 - 0s - loss: 108.0172\n",
      "Epoch 19/100\n",
      "13/13 - 0s - loss: 105.8912\n",
      "Epoch 20/100\n",
      "13/13 - 0s - loss: 104.0937\n",
      "Epoch 21/100\n",
      "13/13 - 0s - loss: 101.9489\n",
      "Epoch 22/100\n",
      "13/13 - 0s - loss: 100.2583\n",
      "Epoch 23/100\n",
      "13/13 - 0s - loss: 98.9221\n",
      "Epoch 24/100\n",
      "13/13 - 0s - loss: 96.3524\n",
      "Epoch 25/100\n",
      "13/13 - 0s - loss: 94.9066\n",
      "Epoch 26/100\n",
      "13/13 - 0s - loss: 92.7954\n",
      "Epoch 27/100\n",
      "13/13 - 0s - loss: 90.7624\n",
      "Epoch 28/100\n",
      "13/13 - 0s - loss: 88.7546\n",
      "Epoch 29/100\n",
      "13/13 - 0s - loss: 87.3047\n",
      "Epoch 30/100\n",
      "13/13 - 0s - loss: 85.1755\n",
      "Epoch 31/100\n",
      "13/13 - 0s - loss: 83.7377\n",
      "Epoch 32/100\n",
      "13/13 - 0s - loss: 82.3730\n",
      "Epoch 33/100\n",
      "13/13 - 0s - loss: 80.6231\n",
      "Epoch 34/100\n",
      "13/13 - 0s - loss: 78.8504\n",
      "Epoch 35/100\n",
      "13/13 - 0s - loss: 77.3168\n",
      "Epoch 36/100\n",
      "13/13 - 0s - loss: 75.9873\n",
      "Epoch 37/100\n",
      "13/13 - 0s - loss: 74.6523\n",
      "Epoch 38/100\n",
      "13/13 - 0s - loss: 73.2543\n",
      "Epoch 39/100\n",
      "13/13 - 0s - loss: 71.8658\n",
      "Epoch 40/100\n",
      "13/13 - 0s - loss: 70.7531\n",
      "Epoch 41/100\n",
      "13/13 - 0s - loss: 69.5997\n",
      "Epoch 42/100\n",
      "13/13 - 0s - loss: 68.6464\n",
      "Epoch 43/100\n",
      "13/13 - 0s - loss: 66.8773\n",
      "Epoch 44/100\n",
      "13/13 - 0s - loss: 65.9850\n",
      "Epoch 45/100\n",
      "13/13 - 0s - loss: 64.6313\n",
      "Epoch 46/100\n",
      "13/13 - 0s - loss: 64.5987\n",
      "Epoch 47/100\n",
      "13/13 - 0s - loss: 63.6763\n",
      "Epoch 48/100\n",
      "13/13 - 0s - loss: 62.2130\n",
      "Epoch 49/100\n",
      "13/13 - 0s - loss: 61.3572\n",
      "Epoch 50/100\n",
      "13/13 - 0s - loss: 60.5624\n",
      "Epoch 51/100\n",
      "13/13 - 0s - loss: 59.9728\n",
      "Epoch 52/100\n",
      "13/13 - 0s - loss: 59.8104\n",
      "Epoch 53/100\n",
      "13/13 - 0s - loss: 58.8431\n",
      "Epoch 54/100\n",
      "13/13 - 0s - loss: 58.1441\n",
      "Epoch 55/100\n",
      "13/13 - 0s - loss: 57.5394\n",
      "Epoch 56/100\n",
      "13/13 - 0s - loss: 56.9748\n",
      "Epoch 57/100\n",
      "13/13 - 0s - loss: 56.4453\n",
      "Epoch 58/100\n",
      "13/13 - 0s - loss: 55.9836\n",
      "Epoch 59/100\n",
      "13/13 - 0s - loss: 55.7626\n",
      "Epoch 60/100\n",
      "13/13 - 0s - loss: 55.0696\n",
      "Epoch 61/100\n",
      "13/13 - 0s - loss: 54.4758\n",
      "Epoch 62/100\n",
      "13/13 - 0s - loss: 54.3215\n",
      "Epoch 63/100\n",
      "13/13 - 0s - loss: 53.8873\n",
      "Epoch 64/100\n",
      "13/13 - 0s - loss: 53.5937\n",
      "Epoch 65/100\n",
      "13/13 - 0s - loss: 53.4454\n",
      "Epoch 66/100\n",
      "13/13 - 0s - loss: 52.7415\n",
      "Epoch 67/100\n",
      "13/13 - 0s - loss: 52.7650\n",
      "Epoch 68/100\n",
      "13/13 - 0s - loss: 52.1966\n",
      "Epoch 69/100\n",
      "13/13 - 0s - loss: 52.1269\n",
      "Epoch 70/100\n",
      "13/13 - 0s - loss: 51.6875\n",
      "Epoch 71/100\n",
      "13/13 - 0s - loss: 51.2402\n",
      "Epoch 72/100\n",
      "13/13 - 0s - loss: 51.3744\n",
      "Epoch 73/100\n",
      "13/13 - 0s - loss: 51.0487\n",
      "Epoch 74/100\n",
      "13/13 - 0s - loss: 50.8313\n",
      "Epoch 75/100\n",
      "13/13 - 0s - loss: 50.4756\n",
      "Epoch 76/100\n",
      "13/13 - 0s - loss: 50.5669\n",
      "Epoch 77/100\n",
      "13/13 - 0s - loss: 49.9561\n",
      "Epoch 78/100\n",
      "13/13 - 0s - loss: 49.8251\n",
      "Epoch 79/100\n",
      "13/13 - 0s - loss: 49.6525\n",
      "Epoch 80/100\n",
      "13/13 - 0s - loss: 49.6901\n",
      "Epoch 81/100\n",
      "13/13 - 0s - loss: 49.3449\n",
      "Epoch 82/100\n",
      "13/13 - 0s - loss: 49.2642\n",
      "Epoch 83/100\n",
      "13/13 - 0s - loss: 48.9479\n",
      "Epoch 84/100\n",
      "13/13 - 0s - loss: 48.7970\n",
      "Epoch 85/100\n",
      "13/13 - 0s - loss: 48.9217\n",
      "Epoch 86/100\n",
      "13/13 - 0s - loss: 48.7226\n",
      "Epoch 87/100\n",
      "13/13 - 0s - loss: 48.7249\n",
      "Epoch 88/100\n",
      "13/13 - 0s - loss: 48.8132\n",
      "Epoch 89/100\n",
      "13/13 - 0s - loss: 48.2089\n",
      "Epoch 90/100\n",
      "13/13 - 0s - loss: 47.9945\n",
      "Epoch 91/100\n",
      "13/13 - 0s - loss: 48.0501\n",
      "Epoch 92/100\n",
      "13/13 - 0s - loss: 47.9132\n",
      "Epoch 93/100\n",
      "13/13 - 0s - loss: 48.2918\n",
      "Epoch 94/100\n",
      "13/13 - 0s - loss: 47.7539\n",
      "Epoch 95/100\n",
      "13/13 - 0s - loss: 47.7957\n",
      "Epoch 96/100\n",
      "13/13 - 0s - loss: 47.2693\n",
      "Epoch 97/100\n",
      "13/13 - 0s - loss: 47.2516\n",
      "Epoch 98/100\n",
      "13/13 - 0s - loss: 47.2371\n",
      "Epoch 99/100\n",
      "13/13 - 0s - loss: 47.3928\n",
      "Epoch 100/100\n",
      "13/13 - 0s - loss: 46.8871\n"
     ]
    },
    {
     "data": {
      "text/plain": [
       "<tensorflow.python.keras.callbacks.History at 0x168800d90>"
      ]
     },
     "execution_count": 5,
     "metadata": {},
     "output_type": "execute_result"
    }
   ],
   "source": [
    "from tensorflow.keras.models import Sequential\n",
    "from tensorflow.keras.layers import Dense, Activation\n",
    "import pandas as pd\n",
    "import io\n",
    "import os\n",
    "import requests\n",
    "import numpy as np\n",
    "from sklearn import metrics\n",
    "\n",
    "df = pd.read_csv(\n",
    "    \"https://data.heatonresearch.com/data/t81-558/auto-mpg.csv\", \n",
    "    na_values=['NA', '?'])\n",
    "\n",
    "cars = df['name']\n",
    "\n",
    "# Handle missing value\n",
    "df['horsepower'] = df['horsepower'].fillna(df['horsepower'].median())\n",
    "\n",
    "# Pandas to Numpy\n",
    "x = df[['cylinders', 'displacement', 'horsepower', 'weight',\n",
    "       'acceleration', 'year', 'origin']].values\n",
    "y = df['mpg'].values # regression\n",
    "\n",
    "# Build the neural network\n",
    "model = Sequential()\n",
    "model.add(Dense(25, input_dim=x.shape[1], activation='relu')) # Hidden 1\n",
    "model.add(Dense(10, activation='relu')) # Hidden 2\n",
    "model.add(Dense(1)) # Output\n",
    "model.compile(loss='mean_squared_error', optimizer='adam')\n",
    "model.fit(x,y,verbose=2,epochs=100)"
   ]
  },
  {
   "cell_type": "markdown",
   "metadata": {
    "id": "82O2rvqiCtiR"
   },
   "source": [
    "### Introduction to Neural Network Hyperparameters\n",
    "\n",
    "If you look at the above code, you will see that the neural network contains four layers.  The first layer is the input layer because it contains the **input_dim** parameter that the programmer sets to be the number of inputs that the dataset has.  The network needs one input neuron for every column in the data set (including dummy variables).  \n",
    "\n",
    "There are also several hidden layers, with 25 and 10 neurons each. You might be wondering how the programmer chose these numbers. Selecting a hidden neuron structure is one of the most common questions about neural networks.  Unfortunately, there is not a right answer.  These are hyperparameters.  They are settings that can affect neural network performance, yet there are not a clearly defined means of setting them.\n",
    "\n",
    "In general, more hidden neurons mean more capability to fit complex problems.  However, too many neurons can lead to overfitting and lengthy training times.  Too few can lead to underfitting the problem and will sacrifice accuracy.  Also, how many layers you have is another hyperparameter.  In general, more layers allow the neural network to be able to perform more of its feature engineering and data preprocessing.  But this also comes at the expense of training times and the risk of overfitting.  In general, you will see that neuron counts start larger near the input layer and tend to shrink towards the output layer in a sort of triangular fashion. \n",
    "\n",
    "Some techniques use machine learning to optimize these values.  These will be discussed in [Module 8.3](t81_558_class_08_3_keras_hyperparameters.ipynb).\n",
    "\n",
    "### Controlling the Amount of Output\n",
    "\n",
    "The program produces one line of output for each training epoch.  You can eliminate this output by setting the verbose setting of the fit command:\n",
    "\n",
    "* **verbose=0** - No progress output (use with Jupyter if you do not want output)\n",
    "* **verbose=1** - Display progress bar, does not work well with Jupyter\n",
    "* **verbose=2** - Summary progress output (use with Jupyter if you want to know the loss at each epoch)\n",
    "\n",
    "### Regression Prediction\n",
    "\n",
    "Next, we will perform actual predictions.  The program assigns these predictions to the **pred** variable. These are all MPG predictions from the neural network.  Notice that this is a 2D array?  You can always see the dimensions of what Keras returns by printing out **pred.shape**.  Neural networks can return multiple values, so the result is always an array.  Here the neural network only returns one value per prediction (there are 398 cars, so 398 predictions).  However, a 2D range is needed because the neural network has the potential of returning more than one value.   "
   ]
  },
  {
   "cell_type": "code",
   "execution_count": 8,
   "metadata": {
    "colab": {
     "base_uri": "https://localhost:8080/"
    },
    "id": "HbErLyX_CtiR",
    "outputId": "d3ee0abe-e5b6-4575-8f7f-666a868e0e3f"
   },
   "outputs": [
    {
     "name": "stdout",
     "output_type": "stream",
     "text": [
      "Shape: (398, 1)\n",
      "[[22.539425]\n",
      " [27.995203]\n",
      " [25.851433]\n",
      " [25.711117]\n",
      " [23.701847]\n",
      " [31.893755]\n",
      " [35.556503]\n",
      " [34.45243 ]\n",
      " [36.27014 ]\n",
      " [31.358776]]\n"
     ]
    }
   ],
   "source": [
    "pred = model.predict(x)\n",
    "print(f\"Shape: {pred.shape}\")\n",
    "print(pred[0:10])"
   ]
  },
  {
   "cell_type": "markdown",
   "metadata": {
    "id": "jk_lWnScCtiR"
   },
   "source": [
    "We would like to see how good these predictions are.  We know what the correct MPG is for each car, so we can measure how close the neural network was."
   ]
  },
  {
   "cell_type": "code",
   "execution_count": 9,
   "metadata": {
    "colab": {
     "base_uri": "https://localhost:8080/"
    },
    "id": "vrY0Vs9oCtiR",
    "outputId": "3be93e76-a814-4349-8907-ef9125938a7e"
   },
   "outputs": [
    {
     "name": "stdout",
     "output_type": "stream",
     "text": [
      "Final score (RMSE): 11.552907365195134\n"
     ]
    }
   ],
   "source": [
    "# Measure RMSE error.  RMSE is common for regression.\n",
    "score = np.sqrt(metrics.mean_squared_error(pred,y))\n",
    "print(f\"Final score (RMSE): {score}\")"
   ]
  },
  {
   "cell_type": "markdown",
   "metadata": {
    "id": "i3yqZwhnCtiS"
   },
   "source": [
    "The number printed above is the average amount that the predictions were above or below the expected output. We can also print out the first ten cars, with predictions and actual MPG."
   ]
  },
  {
   "cell_type": "code",
   "execution_count": 10,
   "metadata": {
    "colab": {
     "base_uri": "https://localhost:8080/"
    },
    "id": "Tl7hv8NnCtiS",
    "outputId": "742d6cac-12d6-43a9-d442-64cd8e3e4523"
   },
   "outputs": [
    {
     "name": "stdout",
     "output_type": "stream",
     "text": [
      "1. Car name: chevrolet chevelle malibu, MPG: 18.0, predicted MPG: [22.539425]\n",
      "2. Car name: buick skylark 320, MPG: 15.0, predicted MPG: [27.995203]\n",
      "3. Car name: plymouth satellite, MPG: 18.0, predicted MPG: [25.851433]\n",
      "4. Car name: amc rebel sst, MPG: 16.0, predicted MPG: [25.711117]\n",
      "5. Car name: ford torino, MPG: 17.0, predicted MPG: [23.701847]\n",
      "6. Car name: ford galaxie 500, MPG: 15.0, predicted MPG: [31.893755]\n",
      "7. Car name: chevrolet impala, MPG: 14.0, predicted MPG: [35.556503]\n",
      "8. Car name: plymouth fury iii, MPG: 14.0, predicted MPG: [34.45243]\n",
      "9. Car name: pontiac catalina, MPG: 14.0, predicted MPG: [36.27014]\n",
      "10. Car name: amc ambassador dpl, MPG: 15.0, predicted MPG: [31.358776]\n"
     ]
    }
   ],
   "source": [
    "# Sample predictions\n",
    "for i in range(10):\n",
    "    print(f\"{i+1}. Car name: {cars[i]}, MPG: {y[i]}, \" \n",
    "          + f\"predicted MPG: {pred[i]}\")"
   ]
  },
  {
   "cell_type": "markdown",
   "metadata": {
    "id": "U_dpgVtfCtiS"
   },
   "source": [
    "### Simple TensorFlow Classification: Iris\n",
    "\n",
    "Classification is the process by which a neural network attempts to classify the input into one or more classes.  The simplest way of evaluating a classification network is to track the percentage of training set items that were classified incorrectly.  We typically score human results in this manner. For example, you might have taken multiple-choice exams in school in which you had to shade in a bubble for choices A, B, C, or D.  If you chose the wrong letter on a 10-question exam, you would earn a 90%.  In the same way, we can grade computers; however, most classification algorithms do not merely choose A, B, C, or D.  Computers typically report a classification as their percent confidence in each class.  Figure 3.EXAM shows how a computer and a human might both respond to question number 1 on an exam.\n",
    "\n",
    "**Figure 3.EXAM: Classification Neural Network Output**\n",
    "![Classification Neural Network Output](images/class-multi-choice.png \"Classification Neural Network Output\")\n",
    "\n",
    "As you can see, the human test taker marked the first question as \"B.\" However, the computer test taker had an 80% (0.8) confidence in \"B\" and was also somewhat sure with 10% (0.1) on \"A.\" The computer then distributed the remaining points on the other two.  In the simplest sense, the machine would get 80% of the score for this question if the correct answer were \"B.\" The computer would get only 5% (0.05) of the points if the correct answer were \"D.\" \n",
    "\n",
    "What we just saw is a straightforward example of how to perform the Iris classification using TensorFlow.  The iris.csv file is used, rather than using the built-in data that many of the Google examples require.  \n",
    "\n",
    "**Make sure that you always run previous code blocks.  If you run the code block below, without the code block above, you will get errors**"
   ]
  },
  {
   "cell_type": "code",
   "execution_count": 2,
   "metadata": {
    "colab": {
     "base_uri": "https://localhost:8080/"
    },
    "id": "aLp65T9JCtiS",
    "outputId": "cc56ca71-b7cf-41ff-afbe-76cbb465dcca"
   },
   "outputs": [
    {
     "name": "stdout",
     "output_type": "stream",
     "text": [
      "Epoch 1/100\n"
     ]
    },
    {
     "name": "stderr",
     "output_type": "stream",
     "text": [
      "2021-12-27 19:57:25.759074: I tensorflow/core/grappler/optimizers/custom_graph_optimizer_registry.cc:112] Plugin optimizer for device_type GPU is enabled.\n"
     ]
    },
    {
     "name": "stdout",
     "output_type": "stream",
     "text": [
      "5/5 - 1s - loss: 1.4517\n",
      "Epoch 2/100\n",
      "5/5 - 0s - loss: 1.1605\n",
      "Epoch 3/100\n",
      "5/5 - 0s - loss: 1.0347\n",
      "Epoch 4/100\n",
      "5/5 - 0s - loss: 1.0099\n",
      "Epoch 5/100\n",
      "5/5 - 0s - loss: 0.9664\n",
      "Epoch 6/100\n",
      "5/5 - 0s - loss: 0.9192\n",
      "Epoch 7/100\n",
      "5/5 - 0s - loss: 0.8800\n",
      "Epoch 8/100\n",
      "5/5 - 0s - loss: 0.8482\n",
      "Epoch 9/100\n",
      "5/5 - 0s - loss: 0.8143\n",
      "Epoch 10/100\n",
      "5/5 - 0s - loss: 0.7857\n",
      "Epoch 11/100\n",
      "5/5 - 0s - loss: 0.7624\n",
      "Epoch 12/100\n",
      "5/5 - 0s - loss: 0.7278\n",
      "Epoch 13/100\n",
      "5/5 - 0s - loss: 0.6983\n",
      "Epoch 14/100\n",
      "5/5 - 0s - loss: 0.6741\n",
      "Epoch 15/100\n",
      "5/5 - 0s - loss: 0.6475\n",
      "Epoch 16/100\n",
      "5/5 - 0s - loss: 0.6236\n",
      "Epoch 17/100\n",
      "5/5 - 0s - loss: 0.6000\n",
      "Epoch 18/100\n",
      "5/5 - 0s - loss: 0.5788\n",
      "Epoch 19/100\n",
      "5/5 - 0s - loss: 0.5520\n",
      "Epoch 20/100\n",
      "5/5 - 0s - loss: 0.5307\n",
      "Epoch 21/100\n",
      "5/5 - 0s - loss: 0.5070\n",
      "Epoch 22/100\n",
      "5/5 - 0s - loss: 0.4795\n",
      "Epoch 23/100\n",
      "5/5 - 0s - loss: 0.4591\n",
      "Epoch 24/100\n",
      "5/5 - 0s - loss: 0.4407\n",
      "Epoch 25/100\n",
      "5/5 - 0s - loss: 0.4259\n",
      "Epoch 26/100\n",
      "5/5 - 0s - loss: 0.4122\n",
      "Epoch 27/100\n",
      "5/5 - 0s - loss: 0.3957\n",
      "Epoch 28/100\n",
      "5/5 - 0s - loss: 0.3823\n",
      "Epoch 29/100\n",
      "5/5 - 0s - loss: 0.3705\n",
      "Epoch 30/100\n",
      "5/5 - 0s - loss: 0.3564\n",
      "Epoch 31/100\n",
      "5/5 - 0s - loss: 0.3474\n",
      "Epoch 32/100\n",
      "5/5 - 0s - loss: 0.3438\n",
      "Epoch 33/100\n",
      "5/5 - 0s - loss: 0.3233\n",
      "Epoch 34/100\n",
      "5/5 - 0s - loss: 0.3163\n",
      "Epoch 35/100\n",
      "5/5 - 0s - loss: 0.3058\n",
      "Epoch 36/100\n",
      "5/5 - 0s - loss: 0.2973\n",
      "Epoch 37/100\n",
      "5/5 - 0s - loss: 0.2879\n",
      "Epoch 38/100\n",
      "5/5 - 0s - loss: 0.2791\n",
      "Epoch 39/100\n",
      "5/5 - 0s - loss: 0.2709\n",
      "Epoch 40/100\n",
      "5/5 - 0s - loss: 0.2616\n",
      "Epoch 41/100\n",
      "5/5 - 0s - loss: 0.2553\n",
      "Epoch 42/100\n",
      "5/5 - 0s - loss: 0.2472\n",
      "Epoch 43/100\n",
      "5/5 - 0s - loss: 0.2417\n",
      "Epoch 44/100\n",
      "5/5 - 0s - loss: 0.2327\n",
      "Epoch 45/100\n",
      "5/5 - 0s - loss: 0.2275\n",
      "Epoch 46/100\n",
      "5/5 - 0s - loss: 0.2191\n",
      "Epoch 47/100\n",
      "5/5 - 0s - loss: 0.2134\n",
      "Epoch 48/100\n",
      "5/5 - 0s - loss: 0.2089\n",
      "Epoch 49/100\n",
      "5/5 - 0s - loss: 0.2035\n",
      "Epoch 50/100\n",
      "5/5 - 0s - loss: 0.1961\n",
      "Epoch 51/100\n",
      "5/5 - 0s - loss: 0.1918\n",
      "Epoch 52/100\n",
      "5/5 - 0s - loss: 0.1875\n",
      "Epoch 53/100\n",
      "5/5 - 0s - loss: 0.1822\n",
      "Epoch 54/100\n",
      "5/5 - 0s - loss: 0.1774\n",
      "Epoch 55/100\n",
      "5/5 - 0s - loss: 0.1740\n",
      "Epoch 56/100\n",
      "5/5 - 0s - loss: 0.1707\n",
      "Epoch 57/100\n",
      "5/5 - 0s - loss: 0.1658\n",
      "Epoch 58/100\n",
      "5/5 - 0s - loss: 0.1625\n",
      "Epoch 59/100\n",
      "5/5 - 0s - loss: 0.1593\n",
      "Epoch 60/100\n",
      "5/5 - 0s - loss: 0.1579\n",
      "Epoch 61/100\n",
      "5/5 - 0s - loss: 0.1514\n",
      "Epoch 62/100\n",
      "5/5 - 0s - loss: 0.1517\n",
      "Epoch 63/100\n",
      "5/5 - 0s - loss: 0.1462\n",
      "Epoch 64/100\n",
      "5/5 - 0s - loss: 0.1459\n",
      "Epoch 65/100\n",
      "5/5 - 0s - loss: 0.1489\n",
      "Epoch 66/100\n",
      "5/5 - 0s - loss: 0.1399\n",
      "Epoch 67/100\n",
      "5/5 - 0s - loss: 0.1400\n",
      "Epoch 68/100\n",
      "5/5 - 0s - loss: 0.1400\n",
      "Epoch 69/100\n",
      "5/5 - 0s - loss: 0.1317\n",
      "Epoch 70/100\n",
      "5/5 - 0s - loss: 0.1302\n",
      "Epoch 71/100\n",
      "5/5 - 0s - loss: 0.1267\n",
      "Epoch 72/100\n",
      "5/5 - 0s - loss: 0.1267\n",
      "Epoch 73/100\n",
      "5/5 - 0s - loss: 0.1234\n",
      "Epoch 74/100\n",
      "5/5 - 0s - loss: 0.1234\n",
      "Epoch 75/100\n",
      "5/5 - 0s - loss: 0.1192\n",
      "Epoch 76/100\n",
      "5/5 - 0s - loss: 0.1194\n",
      "Epoch 77/100\n",
      "5/5 - 0s - loss: 0.1150\n",
      "Epoch 78/100\n",
      "5/5 - 0s - loss: 0.1155\n",
      "Epoch 79/100\n",
      "5/5 - 0s - loss: 0.1118\n",
      "Epoch 80/100\n",
      "5/5 - 0s - loss: 0.1111\n",
      "Epoch 81/100\n",
      "5/5 - 0s - loss: 0.1119\n",
      "Epoch 82/100\n",
      "5/5 - 0s - loss: 0.1082\n",
      "Epoch 83/100\n",
      "5/5 - 0s - loss: 0.1075\n",
      "Epoch 84/100\n",
      "5/5 - 0s - loss: 0.1066\n",
      "Epoch 85/100\n",
      "5/5 - 0s - loss: 0.1044\n",
      "Epoch 86/100\n",
      "5/5 - 0s - loss: 0.1025\n",
      "Epoch 87/100\n",
      "5/5 - 0s - loss: 0.1032\n",
      "Epoch 88/100\n",
      "5/5 - 0s - loss: 0.1003\n",
      "Epoch 89/100\n",
      "5/5 - 0s - loss: 0.1016\n",
      "Epoch 90/100\n",
      "5/5 - 0s - loss: 0.0988\n",
      "Epoch 91/100\n",
      "5/5 - 0s - loss: 0.0977\n",
      "Epoch 92/100\n",
      "5/5 - 0s - loss: 0.0970\n",
      "Epoch 93/100\n",
      "5/5 - 0s - loss: 0.0950\n",
      "Epoch 94/100\n",
      "5/5 - 0s - loss: 0.0974\n",
      "Epoch 95/100\n",
      "5/5 - 0s - loss: 0.0927\n",
      "Epoch 96/100\n",
      "5/5 - 0s - loss: 0.0945\n",
      "Epoch 97/100\n",
      "5/5 - 0s - loss: 0.0920\n",
      "Epoch 98/100\n",
      "5/5 - 0s - loss: 0.0922\n",
      "Epoch 99/100\n",
      "5/5 - 0s - loss: 0.0924\n",
      "Epoch 100/100\n",
      "5/5 - 0s - loss: 0.0914\n"
     ]
    },
    {
     "data": {
      "text/plain": [
       "<tensorflow.python.keras.callbacks.History at 0x16c038bb0>"
      ]
     },
     "execution_count": 2,
     "metadata": {},
     "output_type": "execute_result"
    }
   ],
   "source": [
    "import pandas as pd\n",
    "import io\n",
    "import requests\n",
    "import numpy as np\n",
    "from sklearn import metrics\n",
    "from tensorflow.keras.models import Sequential\n",
    "from tensorflow.keras.layers import Dense, Activation\n",
    "from tensorflow.keras.callbacks import EarlyStopping\n",
    "\n",
    "df = pd.read_csv(\n",
    "    \"https://data.heatonresearch.com/data/t81-558/iris.csv\", \n",
    "    na_values=['NA', '?'])\n",
    "\n",
    "# Convert to numpy - Classification\n",
    "x = df[['sepal_l', 'sepal_w', 'petal_l', 'petal_w']].values\n",
    "dummies = pd.get_dummies(df['species']) # Classification\n",
    "species = dummies.columns\n",
    "y = dummies.values\n",
    "\n",
    "\n",
    "# Build neural network\n",
    "model = Sequential()\n",
    "model.add(Dense(50, input_dim=x.shape[1], activation='relu')) # Hidden 1\n",
    "model.add(Dense(25, activation='relu')) # Hidden 2\n",
    "model.add(Dense(y.shape[1],activation='softmax')) # Output\n",
    "\n",
    "model.compile(loss='categorical_crossentropy', optimizer='adam')\n",
    "model.fit(x,y,verbose=2,epochs=100)"
   ]
  },
  {
   "cell_type": "code",
   "execution_count": 12,
   "metadata": {
    "colab": {
     "base_uri": "https://localhost:8080/"
    },
    "id": "QPM30WdBCtiS",
    "outputId": "a02c3d4e-239f-44b2-bb1f-f8904114ac29"
   },
   "outputs": [
    {
     "name": "stdout",
     "output_type": "stream",
     "text": [
      "Index(['Iris-setosa', 'Iris-versicolor', 'Iris-virginica'], dtype='object')\n"
     ]
    }
   ],
   "source": [
    "# Print out number of species found:\n",
    "\n",
    "print(species)"
   ]
  },
  {
   "cell_type": "markdown",
   "metadata": {
    "id": "dM8-xyDxCtiS"
   },
   "source": [
    "Now that you have a neural network training, we would like to be able to use it. The following code makes use of our neural network. Exactly like before, we will generate predictions.  Notice that three values come back for each of the 150 iris flowers.  There were three types of iris (Iris-setosa, Iris-versicolor, and Iris-virginica).  "
   ]
  },
  {
   "cell_type": "code",
   "execution_count": 13,
   "metadata": {
    "colab": {
     "base_uri": "https://localhost:8080/"
    },
    "id": "3YzlVpw-CtiS",
    "outputId": "a253eb73-5a42-4276-87f7-c287bdc52edb"
   },
   "outputs": [
    {
     "name": "stdout",
     "output_type": "stream",
     "text": [
      "Shape: (150, 3)\n",
      "[[9.9768412e-01 2.3087766e-03 7.1474560e-06]\n",
      " [9.9349666e-01 6.4763017e-03 2.6995105e-05]\n",
      " [9.9618298e-01 3.7991456e-03 1.7790366e-05]\n",
      " [9.9207532e-01 7.8882594e-03 3.6453897e-05]\n",
      " [9.9791318e-01 2.0800228e-03 6.7602941e-06]\n",
      " [9.9684995e-01 3.1442614e-03 5.8112000e-06]\n",
      " [9.9547136e-01 4.5086881e-03 1.9946103e-05]\n",
      " [9.9625921e-01 3.7288493e-03 1.2040506e-05]\n",
      " [9.9011189e-01 9.8296851e-03 5.8434536e-05]\n",
      " [9.9447203e-01 5.5067884e-03 2.1272421e-05]]\n"
     ]
    }
   ],
   "source": [
    "pred = model.predict(x)\n",
    "print(f\"Shape: {pred.shape}\")\n",
    "print(pred[0:10])"
   ]
  },
  {
   "cell_type": "markdown",
   "metadata": {
    "id": "JCay-JrvCtiS"
   },
   "source": [
    "If you would like to turn of scientific notation, the following line can be used:"
   ]
  },
  {
   "cell_type": "code",
   "execution_count": 14,
   "metadata": {
    "id": "nXZne7ZICtiS"
   },
   "outputs": [],
   "source": [
    "np.set_printoptions(suppress=True)"
   ]
  },
  {
   "cell_type": "markdown",
   "metadata": {
    "id": "nOvMqI7QCtiS"
   },
   "source": [
    "Now we see these values rounded up."
   ]
  },
  {
   "cell_type": "code",
   "execution_count": 15,
   "metadata": {
    "colab": {
     "base_uri": "https://localhost:8080/"
    },
    "id": "F9PSDexjCtiS",
    "outputId": "cce7841f-4c30-45d6-f80a-ee886986844b"
   },
   "outputs": [
    {
     "name": "stdout",
     "output_type": "stream",
     "text": [
      "[[1 0 0]\n",
      " [1 0 0]\n",
      " [1 0 0]\n",
      " [1 0 0]\n",
      " [1 0 0]\n",
      " [1 0 0]\n",
      " [1 0 0]\n",
      " [1 0 0]\n",
      " [1 0 0]\n",
      " [1 0 0]]\n"
     ]
    }
   ],
   "source": [
    "print(y[0:10])"
   ]
  },
  {
   "cell_type": "markdown",
   "metadata": {
    "id": "qDC7hxqECtiS"
   },
   "source": [
    "Usually, the program considers the column with the highest prediction to be the prediction of the neural network.  It is easy to convert the predictions to the expected iris species.  The argmax function finds the index of the maximum prediction for each row."
   ]
  },
  {
   "cell_type": "code",
   "execution_count": 16,
   "metadata": {
    "colab": {
     "base_uri": "https://localhost:8080/"
    },
    "id": "367mbx_PCtiT",
    "outputId": "ea639c6e-7ba5-404e-afb9-8921e0891dd1"
   },
   "outputs": [
    {
     "name": "stdout",
     "output_type": "stream",
     "text": [
      "Predictions: [0 0 0 0 0 0 0 0 0 0 0 0 0 0 0 0 0 0 0 0 0 0 0 0 0 0 0 0 0 0 0 0 0 0 0 0 0\n",
      " 0 0 0 0 0 0 0 0 0 0 0 0 0 1 1 1 1 1 1 1 1 1 1 1 1 1 1 1 1 1 1 1 1 2 1 2 1\n",
      " 1 1 1 1 1 1 1 1 1 2 2 1 1 1 1 1 1 1 1 1 1 1 1 1 1 1 2 2 2 2 2 2 2 2 2 2 2\n",
      " 2 2 2 2 2 2 2 2 2 2 2 2 2 2 2 2 2 2 2 2 2 2 2 2 2 2 2 2 2 2 2 2 2 2 2 2 2\n",
      " 2 2]\n",
      "Expected: [0 0 0 0 0 0 0 0 0 0 0 0 0 0 0 0 0 0 0 0 0 0 0 0 0 0 0 0 0 0 0 0 0 0 0 0 0\n",
      " 0 0 0 0 0 0 0 0 0 0 0 0 0 1 1 1 1 1 1 1 1 1 1 1 1 1 1 1 1 1 1 1 1 1 1 1 1\n",
      " 1 1 1 1 1 1 1 1 1 1 1 1 1 1 1 1 1 1 1 1 1 1 1 1 1 1 2 2 2 2 2 2 2 2 2 2 2\n",
      " 2 2 2 2 2 2 2 2 2 2 2 2 2 2 2 2 2 2 2 2 2 2 2 2 2 2 2 2 2 2 2 2 2 2 2 2 2\n",
      " 2 2]\n"
     ]
    }
   ],
   "source": [
    "predict_classes = np.argmax(pred,axis=1)\n",
    "expected_classes = np.argmax(y,axis=1)\n",
    "print(f\"Predictions: {predict_classes}\")\n",
    "print(f\"Expected: {expected_classes}\")"
   ]
  },
  {
   "cell_type": "markdown",
   "metadata": {
    "id": "lrcy0Q4xCtiT"
   },
   "source": [
    "Of course, it is straightforward to turn these indexes back into iris species. We use the species list that we created earlier."
   ]
  },
  {
   "cell_type": "code",
   "execution_count": 17,
   "metadata": {
    "colab": {
     "base_uri": "https://localhost:8080/"
    },
    "id": "NTORTvygCtiT",
    "outputId": "93b065ef-9c84-4103-992c-a77fe7be8519"
   },
   "outputs": [
    {
     "name": "stdout",
     "output_type": "stream",
     "text": [
      "Index(['Iris-setosa', 'Iris-setosa', 'Iris-setosa', 'Iris-setosa',\n",
      "       'Iris-setosa', 'Iris-setosa', 'Iris-setosa', 'Iris-setosa',\n",
      "       'Iris-setosa'],\n",
      "      dtype='object')\n"
     ]
    }
   ],
   "source": [
    "print(species[predict_classes[1:10]])"
   ]
  },
  {
   "cell_type": "markdown",
   "metadata": {
    "id": "Ljez1ZRACtiT"
   },
   "source": [
    "Accuracy might be a more easily understood error metric.  It is essentially a test score.  For all of the iris predictions, what percent were correct?  The downside is it does not consider how confident the neural network was in each prediction."
   ]
  },
  {
   "cell_type": "code",
   "execution_count": 18,
   "metadata": {
    "colab": {
     "base_uri": "https://localhost:8080/"
    },
    "id": "zth2S2OcCtiT",
    "outputId": "245de0c3-22c8-4337-c631-a2967a8d44d8"
   },
   "outputs": [
    {
     "name": "stdout",
     "output_type": "stream",
     "text": [
      "Accuracy: 0.9733333333333334\n"
     ]
    }
   ],
   "source": [
    "from sklearn.metrics import accuracy_score\n",
    "\n",
    "correct = accuracy_score(expected_classes,predict_classes)\n",
    "print(f\"Accuracy: {correct}\")"
   ]
  },
  {
   "cell_type": "markdown",
   "metadata": {
    "id": "jY07aiLICtiT"
   },
   "source": [
    "The code below performs two ad hoc predictions.  The first prediction is simply a single iris flower, and the second predicts two iris flowers.  Notice that the argmax in the second prediction requires **axis=1**?  Since we have a 2D array now, we must specify which axis to take the argmax over.  The value **axis=1** specifies we want the max column index for each row."
   ]
  },
  {
   "cell_type": "code",
   "execution_count": 19,
   "metadata": {
    "colab": {
     "base_uri": "https://localhost:8080/"
    },
    "id": "FZUSWVGnCtiT",
    "outputId": "3a38bf92-837c-469e-a672-8c7f53894650"
   },
   "outputs": [
    {
     "name": "stdout",
     "output_type": "stream",
     "text": [
      "[[0.00065001 0.17222181 0.8271282 ]]\n",
      "Predict that [[5. 3. 4. 2.]] is: Iris-virginica\n"
     ]
    }
   ],
   "source": [
    "sample_flower = np.array( [[5.0,3.0,4.0,2.0]], dtype=float)\n",
    "pred = model.predict(sample_flower)\n",
    "print(pred)\n",
    "pred = np.argmax(pred)\n",
    "print(f\"Predict that {sample_flower} is: {species[pred]}\")"
   ]
  },
  {
   "cell_type": "markdown",
   "metadata": {
    "id": "ENSZaaRICtiT"
   },
   "source": [
    "You can also predict two sample flowers."
   ]
  },
  {
   "cell_type": "code",
   "execution_count": 20,
   "metadata": {
    "colab": {
     "base_uri": "https://localhost:8080/"
    },
    "id": "fdSSkkmwCtiT",
    "outputId": "2be33dec-832b-445f-dc82-35181e7932a3"
   },
   "outputs": [
    {
     "name": "stdout",
     "output_type": "stream",
     "text": [
      "[[0.00065001 0.17222157 0.8271284 ]\n",
      " [0.9887937  0.01117751 0.00002886]]\n",
      "Predict that these two flowers [[5.  3.  4.  2. ]\n",
      " [5.2 3.5 1.5 0.8]] \n",
      "are: Index(['Iris-virginica', 'Iris-setosa'], dtype='object')\n"
     ]
    }
   ],
   "source": [
    "sample_flower = np.array( [[5.0,3.0,4.0,2.0],[5.2,3.5,1.5,0.8]],\\\n",
    "        dtype=float)\n",
    "pred = model.predict(sample_flower)\n",
    "print(pred)\n",
    "pred = np.argmax(pred,axis=1)\n",
    "print(f\"Predict that these two flowers {sample_flower} \")\n",
    "print(f\"are: {species[pred]}\")"
   ]
  }
 ],
 "metadata": {
  "anaconda-cloud": {},
  "colab": {
   "collapsed_sections": [],
   "name": "Copy of t81_558_class_03_2_keras.ipynb",
   "provenance": []
  },
  "kernelspec": {
   "display_name": "Python [conda env:tensorflow] *",
   "language": "python",
   "name": "conda-env-tensorflow-py"
  },
  "language_info": {
   "codemirror_mode": {
    "name": "ipython",
    "version": 3
   },
   "file_extension": ".py",
   "mimetype": "text/x-python",
   "name": "python",
   "nbconvert_exporter": "python",
   "pygments_lexer": "ipython3",
   "version": "3.9.7"
  }
 },
 "nbformat": 4,
 "nbformat_minor": 1
}
