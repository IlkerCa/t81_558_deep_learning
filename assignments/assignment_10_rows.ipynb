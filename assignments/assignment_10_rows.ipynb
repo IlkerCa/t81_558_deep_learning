{
  "nbformat": 4,
  "nbformat_minor": 0,
  "metadata": {
    "colab": {
      "name": "assignment_10_rows.ipynb",
      "provenance": [],
      "collapsed_sections": []
    },
    "kernelspec": {
      "name": "python3",
      "display_name": "Python 3"
    },
    "language_info": {
      "name": "python"
    }
  },
  "cells": [
    {
      "cell_type": "markdown",
      "metadata": {
        "id": "wlQ50Lgq0Dkf"
      },
      "source": [
        "Load the data and divide into training and test."
      ]
    },
    {
      "cell_type": "code",
      "metadata": {
        "id": "9I30gKInplA-"
      },
      "source": [
        "import pandas as pd\n",
        "\n",
        "df = pd.read_csv(\"https://data.heatonresearch.com/data/t81-558/datasets/series-31-num.csv\")"
      ],
      "execution_count": 1,
      "outputs": []
    },
    {
      "cell_type": "code",
      "metadata": {
        "id": "RygSA-fwp8tz"
      },
      "source": [
        "df_train = df[df['time']<3000]\n",
        "df_test = df[df['time']>=3000]\n",
        "\n",
        "seq_train = df_train['value'].tolist()\n",
        "seq_test = df_test['value'].tolist()"
      ],
      "execution_count": 15,
      "outputs": []
    },
    {
      "cell_type": "markdown",
      "metadata": {
        "id": "hmLJyDXC0PWP"
      },
      "source": [
        "See size of each:"
      ]
    },
    {
      "cell_type": "code",
      "metadata": {
        "colab": {
          "base_uri": "https://localhost:8080/"
        },
        "id": "OAspGDiO0Vf2",
        "outputId": "67cf3ed3-fe92-4060-e0bf-9df27cef03ef"
      },
      "source": [
        "print(f\"Size of test: {len(seq_test)}\")"
      ],
      "execution_count": 17,
      "outputs": [
        {
          "output_type": "stream",
          "text": [
            "Size of test: 1000\n"
          ],
          "name": "stdout"
        }
      ]
    },
    {
      "cell_type": "code",
      "metadata": {
        "id": "-k5dV206qihB"
      },
      "source": [
        "import numpy as np\n",
        "def to_sequences(seq_size, obs):\n",
        "    x = []\n",
        "    y = []\n",
        "    for i in range(len(obs)-SEQUENCE_SIZE):\n",
        "        window = obs[i:(i+SEQUENCE_SIZE)]\n",
        "        after_window = obs[i+SEQUENCE_SIZE]\n",
        "        window = [[x] for x in window]\n",
        "        x.append(window)\n",
        "        y.append(after_window)\n",
        "        \n",
        "    return np.array(x),np.array(y)"
      ],
      "execution_count": 9,
      "outputs": []
    },
    {
      "cell_type": "markdown",
      "metadata": {
        "id": "JQ5CIJJl02p6"
      },
      "source": [
        "Now divide into sequences."
      ]
    },
    {
      "cell_type": "code",
      "metadata": {
        "id": "T5op9b4SqOmf"
      },
      "source": [
        "SEQUENCE_SIZE = 5\n",
        "x_train,y_train = to_sequences(SEQUENCE_SIZE,seq_train)\n",
        "x_test,y_test = to_sequences(SEQUENCE_SIZE,seq_test)"
      ],
      "execution_count": 10,
      "outputs": []
    },
    {
      "cell_type": "code",
      "metadata": {
        "colab": {
          "base_uri": "https://localhost:8080/"
        },
        "id": "-KqZg2NouwBy",
        "outputId": "64a0fed5-bc4b-4dea-f485-9cf802f96145"
      },
      "source": [
        "x_test.shape"
      ],
      "execution_count": 18,
      "outputs": [
        {
          "output_type": "execute_result",
          "data": {
            "text/plain": [
              "(995, 5, 1)"
            ]
          },
          "metadata": {
            "tags": []
          },
          "execution_count": 18
        }
      ]
    },
    {
      "cell_type": "markdown",
      "metadata": {
        "id": "ZSOeIsgF1tYp"
      },
      "source": [
        "The test set that I produced, using the provided to_sequences function returns 995 sequences.  This is because to_sequences expects 5 inputs (for x) plus one expected valye (for y).  This is actually wasting one value, because we do not need the y-value for evaluation.\n",
        "\n",
        "If you use your own method to generate the test data, you could get 996 rows, because your final x row will include the final value in the dataset (15). \n",
        "\n",
        "For this one I will accept either 995 or 996."
      ]
    }
  ]
}