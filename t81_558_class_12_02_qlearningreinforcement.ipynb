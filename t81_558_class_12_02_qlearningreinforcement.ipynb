{
 "cells": [
  {
   "cell_type": "markdown",
   "metadata": {
    "colab_type": "text",
    "id": "PF0TtkQ4-NoP"
   },
   "source": [
    "<a href=\"https://colab.research.google.com/github/jeffheaton/t81_558_deep_learning/blob/master/t81_558_class_12_02_qlearningreinforcement.ipynb\" target=\"_parent\"><img src=\"https://colab.research.google.com/assets/colab-badge.svg\" alt=\"Open In Colab\"/></a>"
   ]
  },
  {
   "cell_type": "markdown",
   "metadata": {
    "colab_type": "text",
    "id": "6dkLTudD-NoQ"
   },
   "source": [
    "# T81-558: Applications of Deep Neural Networks\n",
    "**Module 12: Reinforcement Learning**\n",
    "* Instructor: [Jeff Heaton](https://sites.wustl.edu/jeffheaton/), McKelvey School of Engineering, [Washington University in St. Louis](https://engineering.wustl.edu/Programs/Pages/default.aspx)\n",
    "* For more information visit the [class website](https://sites.wustl.edu/jeffheaton/t81-558/)."
   ]
  },
  {
   "cell_type": "markdown",
   "metadata": {
    "colab_type": "text",
    "id": "wN-T0x2j-NoR"
   },
   "source": [
    "# Module 12 Video Material\n",
    "\n",
    "* Part 12.1: Introduction to the OpenAI Gym [[Video]](https://www.youtube.com/watch?v=_KbUxgyisjM&list=PLjy4p-07OYzulelvJ5KVaT2pDlxivl_BN) [[Notebook]](https://github.com/jeffheaton/t81_558_deep_learning/blob/master/t81_558_class_12_01_ai_gym.ipynb)\n",
    "* **Part 12.2: Introduction to Q-Learning** [[Video]](https://www.youtube.com/watch?v=A3sYFcJY3lA&list=PLjy4p-07OYzulelvJ5KVaT2pDlxivl_BN) [[Notebook]](https://github.com/jeffheaton/t81_558_deep_learning/blob/master/t81_558_class_12_02_qlearningreinforcement.ipynb)\n",
    "* Part 12.3: Keras Q-Learning in the OpenAI Gym [[Video]](https://www.youtube.com/watch?v=qy1SJmsRhvM&list=PLjy4p-07OYzulelvJ5KVaT2pDlxivl_BN) [[Notebook]](https://github.com/jeffheaton/t81_558_deep_learning/blob/master/t81_558_class_12_03_keras_reinforce.ipynb)\n",
    "* Part 12.4: Atari Games with Keras Neural Networks [[Video]](https://www.youtube.com/watch?v=co0SwPWoZh0&list=PLjy4p-07OYzulelvJ5KVaT2pDlxivl_BN) [[Notebook]](https://github.com/jeffheaton/t81_558_deep_learning/blob/master/t81_558_class_12_04_atari.ipynb)\n",
    "* Part 12.5: Application of Reinforcement Learning [[Video]](https://www.youtube.com/watch?v=1jQPP3RfwMI&list=PLjy4p-07OYzulelvJ5KVaT2pDlxivl_BN) [[Notebook]](https://github.com/jeffheaton/t81_558_deep_learning/blob/master/t81_558_class_12_05_apply_rl.ipynb)\n"
   ]
  },
  {
   "cell_type": "markdown",
   "metadata": {
    "colab_type": "text",
    "id": "MIOgB0oG-NoS"
   },
   "source": [
    "# Google CoLab Instructions\n",
    "\n",
    "The following code ensures that Google CoLab is running the correct version of TensorFlow."
   ]
  },
  {
   "cell_type": "code",
   "execution_count": 0,
   "metadata": {
    "colab": {
     "base_uri": "https://localhost:8080/",
     "height": 34
    },
    "colab_type": "code",
    "id": "ERfMETL_-NoS",
    "outputId": "f242b914-8326-4632-a3d7-180488d83b9a"
   },
   "outputs": [
    {
     "name": "stdout",
     "output_type": "stream",
     "text": [
      "Note: using Google CoLab\n"
     ]
    }
   ],
   "source": [
    "try:\n",
    "    from google.colab import drive\n",
    "    %tensorflow_version 2.x\n",
    "    COLAB = True\n",
    "    print(\"Note: using Google CoLab\")\n",
    "except:\n",
    "    print(\"Note: not using Google CoLab\")\n",
    "    COLAB = False"
   ]
  },
  {
   "cell_type": "code",
   "execution_count": 0,
   "metadata": {
    "colab": {
     "base_uri": "https://localhost:8080/",
     "height": 136
    },
    "colab_type": "code",
    "id": "IcTY1gkD-X5r",
    "outputId": "564a04c3-f86b-42c0-f6f0-5519f807b243"
   },
   "outputs": [
    {
     "name": "stdout",
     "output_type": "stream",
     "text": [
      "Reading package lists... Done\n",
      "Building dependency tree       \n",
      "Reading state information... Done\n",
      "x11-utils is already the newest version (7.7+3build1).\n",
      "ffmpeg is already the newest version (7:3.4.6-0ubuntu0.18.04.1).\n",
      "xvfb is already the newest version (2:1.19.6-1ubuntu4.4).\n",
      "0 upgraded, 0 newly installed, 0 to remove and 31 not upgraded.\n"
     ]
    }
   ],
   "source": [
    "if COLAB:\n",
    "  !sudo apt-get install -y xvfb ffmpeg x11-utils\n",
    "  !pip install -q 'gym==0.10.11'\n",
    "  !pip install -q 'imageio==2.4.0'\n",
    "  !pip install -q PILLOW\n",
    "  !pip install -q 'pyglet==1.3.2'\n",
    "  !pip install -q pyvirtualdisplay\n",
    "  !pip install -q tf-agents"
   ]
  },
  {
   "cell_type": "markdown",
   "metadata": {
    "colab_type": "text",
    "id": "zA-E4NR2-NoY"
   },
   "source": [
    "# Part 12.2: Introduction to Q-Learning\n",
    "\n",
    "Q-Learning is a foundational technique upon which deep reinforcement learning is based.  Before we explore deep reinforcement learning, it is essential to understand Q-Learning.  Several components make up any Q-Learning system.\n",
    "\n",
    "* **Agent** - The agent is an entity that exists in an environment that takes actions to affect the state of the environment, to receive rewards.\n",
    "* **Environment** - The environment is the universe that the agent exists in.  The environment is always in a specific state that is changed by the actions of the agent.\n",
    "* **Actions** - Steps that can be performed by the agent to alter the environment \n",
    "* **Step** - A step occurs each time that the agent performs an action and potentially changes the environment state.\n",
    "* **Episode** - A chain of steps that ultimately culminates in the environment entering a terminal state.\n",
    "* **Epoch** - A training iteration of the agent that contains some number of episodes.\n",
    "* **Terminal State** -  A state in which further actions do not make sense.  In many environments, a terminal state occurs when the agent has one, lost, or the environment exceeding the maximum number of steps.\n",
    "\n",
    "Q-Learning works by building a table that suggests an action for every possible state.  This approach runs into several problems.  First, the environment is usually composed of several continuous numbers, resulting in an infinite number of states. Q-Learning handles continuous states by binning these numeric values into ranges. \n",
    "\n",
    "Additionally, Q-Learning primarily deals with discrete actions, such as pressing a joystick up or down.  Out of the box, Q-Learning does not deal with continuous inputs, such as a car's accelerator that can be in a range of positions from released to fully engaged. Researchers have come up with clever tricks to allow Q-Learning to accommodate continuous actions.\n",
    "\n",
    "In the next chapter, we will learn more about deep reinforcement learning. Deep neural networks can help to solve the problems of continuous environments and action spaces.  For now, we will apply regular Q-Learning to the Mountain Car problem from OpenAI Gym.\n",
    "\n",
    "### Introducing the Mountain Car\n",
    "\n",
    "This section will demonstrate how Q-Learning can create a solution to the mountain car gym environment.  The Mountain car is an environment where a car must climb a mountain.  Because gravity is stronger than the car's engine, even with full throttle, it cannot merely accelerate up the steep slope. The vehicle is situated in a valley and must learn to utilize potential energy by driving up the opposite hill before the car can make it to the goal at the top of the rightmost hill.\n",
    "\n",
    "First, it might be helpful to visualize the mountain car environment.  The following code shows this environment.  This code makes use of TF-Agents to perform this render. Usually, we use TF-Agents for the type of deep reinforcement learning that we will see in the next module.  However, for now, TF-Agents is just used to render the mountain care environment."
   ]
  },
  {
   "cell_type": "code",
   "execution_count": 0,
   "metadata": {
    "colab": {
     "base_uri": "https://localhost:8080/",
     "height": 417
    },
    "colab_type": "code",
    "id": "ngaU1pVi-mjb",
    "outputId": "141951c6-adfd-4f0d-e5ce-22a515a02a08"
   },
   "outputs": [
    {
     "data": {
      "image/png": "[encoded data removed]",
      "text/plain": [
       "<PIL.Image.Image image mode=RGB size=600x400 at 0x7FEEE83A6A90>"
      ]
     },
     "execution_count": 3,
     "metadata": {
      "tags": []
     },
     "output_type": "execute_result"
    }
   ],
   "source": [
    "import tf_agents\n",
    "from tf_agents.environments import suite_gym\n",
    "import PIL.Image\n",
    "import pyvirtualdisplay\n",
    "\n",
    "display = pyvirtualdisplay.Display(visible=0, size=(1400, 900)).start()\n",
    "\n",
    "env_name = 'MountainCar-v0'\n",
    "env = suite_gym.load(env_name)\n",
    "env.reset()\n",
    "PIL.Image.fromarray(env.render())"
   ]
  },
  {
   "cell_type": "markdown",
   "metadata": {
    "colab_type": "text",
    "id": "cQBcs3yAMo_P"
   },
   "source": [
    "The mountain car environment provides the following discrete actions:\n",
    "\n",
    "* 0 - Apply left force\n",
    "* 1 - Apply no force\n",
    "* 2 - Apply right force\n",
    "\n",
    "The mountain car environment is made up of the following continuous values:\n",
    "\n",
    "* state[0] - Position \n",
    "* state[1] - Velocity\n",
    "\n",
    "The following code shows an agent that applies full throttle to climb the hill.  The cart is not strong enough.  It will need to use potential energy from the mountain behind it."
   ]
  },
  {
   "cell_type": "code",
   "execution_count": 0,
   "metadata": {
    "colab": {},
    "colab_type": "code",
    "id": "QMLS0b-tbc_j"
   },
   "outputs": [],
   "source": [
    "import gym\n",
    "from gym.wrappers import Monitor\n",
    "import glob\n",
    "import io\n",
    "import base64\n",
    "from IPython.display import HTML\n",
    "from pyvirtualdisplay import Display\n",
    "from IPython import display as ipythondisplay\n",
    "\n",
    "display = Display(visible=0, size=(1400, 900))\n",
    "display.start()\n",
    "\n",
    "\"\"\"\n",
    "Utility functions to enable video recording of gym environment \n",
    "and displaying it.\n",
    "To enable video, just do \"env = wrap_env(env)\"\"\n",
    "\"\"\"\n",
    "\n",
    "def show_video():\n",
    "  mp4list = glob.glob('video/*.mp4')\n",
    "  if len(mp4list) > 0:\n",
    "    mp4 = mp4list[0]\n",
    "    video = io.open(mp4, 'r+b').read()\n",
    "    encoded = base64.b64encode(video)\n",
    "    ipythondisplay.display(HTML(data='''<video alt=\"test\" autoplay \n",
    "                loop controls style=\"height: 400px;\">\n",
    "                <source src=\"data:video/mp4;base64,{0}\" type=\"video/mp4\" />\n",
    "             </video>'''.format(encoded.decode('ascii'))))\n",
    "  else: \n",
    "    print(\"Could not find video\")\n",
    "    \n",
    "\n",
    "def wrap_env(env):\n",
    "  env = Monitor(env, './video', force=True)\n",
    "  return env"
   ]
  },
  {
   "cell_type": "code",
   "execution_count": 0,
   "metadata": {
    "colab": {
     "base_uri": "https://localhost:8080/",
     "height": 1000
    },
    "colab_type": "code",
    "id": "iCRJdn0G-NoZ",
    "outputId": "37de6cbf-0fce-4cae-f88e-df646520c0dd"
   },
   "outputs": [
    {
     "name": "stdout",
     "output_type": "stream",
     "text": [
      "Step 1: State=[-0.55754837  0.00126361], Reward=-1.0\n",
      "Step 2: State=[-0.55503058  0.00251779], Reward=-1.0\n",
      "Step 3: State=[-0.5512774   0.00375318], Reward=-1.0\n",
      "Step 4: State=[-0.54631687  0.00496053], Reward=-1.0\n",
      "Step 5: State=[-0.54018608  0.00613078], Reward=-1.0\n",
      "Step 6: State=[-0.53293095  0.00725514], Reward=-1.0\n",
      "Step 7: State=[-0.52460583  0.00832512], Reward=-1.0\n",
      "Step 8: State=[-0.51527315  0.00933267], Reward=-1.0\n",
      "Step 9: State=[-0.50500292  0.01027024], Reward=-1.0\n",
      "Step 10: State=[-0.49387208  0.01113084], Reward=-1.0\n",
      "Step 11: State=[-0.48196389  0.01190819], Reward=-1.0\n",
      "Step 12: State=[-0.46936715  0.01259674], Reward=-1.0\n",
      "Step 13: State=[-0.45617536  0.01319179], Reward=-1.0\n",
      "Step 14: State=[-0.44248581  0.01368956], Reward=-1.0\n",
      "Step 15: State=[-0.42839861  0.01408719], Reward=-1.0\n",
      "Step 16: State=[-0.41401575  0.01438286], Reward=-1.0\n",
      "Step 17: State=[-0.39944004  0.01457571], Reward=-1.0\n",
      "Step 18: State=[-0.38477414  0.0146659 ], Reward=-1.0\n",
      "Step 19: State=[-0.37011958  0.01465456], Reward=-1.0\n",
      "Step 20: State=[-0.35557587  0.01454371], Reward=-1.0\n",
      "Step 21: State=[-0.34123964  0.01433623], Reward=-1.0\n",
      "Step 22: State=[-0.3272039   0.01403574], Reward=-1.0\n",
      "Step 23: State=[-0.31355736  0.01364654], Reward=-1.0\n",
      "Step 24: State=[-0.30038394  0.01317342], Reward=-1.0\n",
      "Step 25: State=[-0.28776228  0.01262165], Reward=-1.0\n",
      "Step 26: State=[-0.27576549  0.0119968 ], Reward=-1.0\n",
      "Step 27: State=[-0.26446086  0.01130463], Reward=-1.0\n",
      "Step 28: State=[-0.25390983  0.01055103], Reward=-1.0\n",
      "Step 29: State=[-0.24416791  0.00974192], Reward=-1.0\n",
      "Step 30: State=[-0.23528474  0.00888317], Reward=-1.0\n",
      "Step 31: State=[-0.22730422  0.00798052], Reward=-1.0\n",
      "Step 32: State=[-0.22026462  0.0070396 ], Reward=-1.0\n",
      "Step 33: State=[-0.21419878  0.00606584], Reward=-1.0\n",
      "Step 34: State=[-0.2091343   0.00506448], Reward=-1.0\n",
      "Step 35: State=[-0.20509371  0.00404059], Reward=-1.0\n",
      "Step 36: State=[-0.20209464  0.00299907], Reward=-1.0\n",
      "Step 37: State=[-0.20015001  0.00194464], Reward=-1.0\n",
      "Step 38: State=[-0.19926807  0.00088193], Reward=-1.0\n",
      "Step 39: State=[-1.99452573e-01 -1.84499834e-04], Reward=-1.0\n",
      "Step 40: State=[-0.20070273 -0.00125015], Reward=-1.0\n",
      "Step 41: State=[-0.20301324 -0.00231051], Reward=-1.0\n",
      "Step 42: State=[-0.20637425 -0.00336101], Reward=-1.0\n",
      "Step 43: State=[-0.21077122 -0.00439698], Reward=-1.0\n",
      "Step 44: State=[-0.21618486 -0.00541363], Reward=-1.0\n",
      "Step 45: State=[-0.22259088 -0.00640603], Reward=-1.0\n",
      "Step 46: State=[-0.22995992 -0.00736903], Reward=-1.0\n",
      "Step 47: State=[-0.23825726 -0.00829734], Reward=-1.0\n",
      "Step 48: State=[-0.24744271 -0.00918545], Reward=-1.0\n",
      "Step 49: State=[-0.25747039 -0.01002769], Reward=-1.0\n",
      "Step 50: State=[-0.26828866 -0.01081826], Reward=-1.0\n",
      "Step 51: State=[-0.27983994 -0.01155128], Reward=-1.0\n",
      "Step 52: State=[-0.29206078 -0.01222083], Reward=-1.0\n",
      "Step 53: State=[-0.30488184 -0.01282106], Reward=-1.0\n",
      "Step 54: State=[-0.31822807 -0.01334624], Reward=-1.0\n",
      "Step 55: State=[-0.33201897 -0.0137909 ], Reward=-1.0\n",
      "Step 56: State=[-0.34616892 -0.01414994], Reward=-1.0\n",
      "Step 57: State=[-0.36058763 -0.01441871], Reward=-1.0\n",
      "Step 58: State=[-0.37518077 -0.01459314], Reward=-1.0\n",
      "Step 59: State=[-0.38985063 -0.01466986], Reward=-1.0\n",
      "Step 60: State=[-0.4044969  -0.01464627], Reward=-1.0\n",
      "Step 61: State=[-0.41901755 -0.01452065], Reward=-1.0\n",
      "Step 62: State=[-0.43330976 -0.0142922 ], Reward=-1.0\n",
      "Step 63: State=[-0.44727088 -0.01396112], Reward=-1.0\n",
      "Step 64: State=[-0.46079947 -0.01352859], Reward=-1.0\n",
      "Step 65: State=[-0.47379628 -0.0129968 ], Reward=-1.0\n",
      "Step 66: State=[-0.48616521 -0.01236894], Reward=-1.0\n",
      "Step 67: State=[-0.49781431 -0.0116491 ], Reward=-1.0\n",
      "Step 68: State=[-0.5086566  -0.01084229], Reward=-1.0\n",
      "Step 69: State=[-0.51861091 -0.00995432], Reward=-1.0\n",
      "Step 70: State=[-0.52760264 -0.00899172], Reward=-1.0\n",
      "Step 71: State=[-0.53556433 -0.0079617 ], Reward=-1.0\n",
      "Step 72: State=[-0.54243631 -0.00687197], Reward=-1.0\n",
      "Step 73: State=[-0.54816708 -0.00573077], Reward=-1.0\n",
      "Step 74: State=[-0.55271375 -0.00454667], Reward=-1.0\n",
      "Step 75: State=[-0.55604234 -0.00332859], Reward=-1.0\n",
      "Step 76: State=[-0.55812798 -0.00208564], Reward=-1.0\n",
      "Step 77: State=[-0.55895512 -0.00082714], Reward=-1.0\n",
      "Step 78: State=[-5.58517581e-01  4.37537106e-04], Reward=-1.0\n",
      "Step 79: State=[-0.55681863  0.00169895], Reward=-1.0\n",
      "Step 80: State=[-0.55387095  0.00294769], Reward=-1.0\n",
      "Step 81: State=[-0.54969653  0.00417442], Reward=-1.0\n",
      "Step 82: State=[-0.54432658  0.00536995], Reward=-1.0\n",
      "Step 83: State=[-0.53780127  0.00652531], Reward=-1.0\n",
      "Step 84: State=[-0.53016948  0.00763179], Reward=-1.0\n",
      "Step 85: State=[-0.52148841  0.00868107], Reward=-1.0\n",
      "Step 86: State=[-0.51182317  0.00966524], Reward=-1.0\n",
      "Step 87: State=[-0.50124622  0.01057694], Reward=-1.0\n",
      "Step 88: State=[-0.4898368   0.01140943], Reward=-1.0\n",
      "Step 89: State=[-0.47768015  0.01215664], Reward=-1.0\n",
      "Step 90: State=[-0.46486681  0.01281334], Reward=-1.0\n",
      "Step 91: State=[-0.45149168  0.01337513], Reward=-1.0\n",
      "Step 92: State=[-0.43765315  0.01383853], Reward=-1.0\n",
      "Step 93: State=[-0.42345209  0.01420106], Reward=-1.0\n",
      "Step 94: State=[-0.40899088  0.01446121], Reward=-1.0\n",
      "Step 95: State=[-0.3943724   0.01461848], Reward=-1.0\n",
      "Step 96: State=[-0.37969902  0.01467338], Reward=-1.0\n",
      "Step 97: State=[-0.36507167  0.01462735], Reward=-1.0\n",
      "Step 98: State=[-0.35058897  0.01448271], Reward=-1.0\n",
      "Step 99: State=[-0.33634635  0.01424261], Reward=-1.0\n",
      "Step 100: State=[-0.32243543  0.01391093], Reward=-1.0\n",
      "Step 101: State=[-0.3089433   0.01349213], Reward=-1.0\n",
      "Step 102: State=[-0.2959521  0.0129912], Reward=-1.0\n",
      "Step 103: State=[-0.28353859  0.01241351], Reward=-1.0\n",
      "Step 104: State=[-0.27177389  0.01176471], Reward=-1.0\n",
      "Step 105: State=[-0.26072327  0.01105062], Reward=-1.0\n",
      "Step 106: State=[-0.25044611  0.01027716], Reward=-1.0\n",
      "Step 107: State=[-0.2409959   0.00945022], Reward=-1.0\n",
      "Step 108: State=[-0.23242026  0.00857563], Reward=-1.0\n",
      "Step 109: State=[-0.22476114  0.00765912], Reward=-1.0\n",
      "Step 110: State=[-0.2180549   0.00670624], Reward=-1.0\n",
      "Step 111: State=[-0.21233255  0.00572235], Reward=-1.0\n",
      "Step 112: State=[-0.20761992  0.00471263], Reward=-1.0\n",
      "Step 113: State=[-0.20393781  0.0036821 ], Reward=-1.0\n",
      "Step 114: State=[-0.20130223  0.00263558], Reward=-1.0\n",
      "Step 115: State=[-0.19972446  0.00157777], Reward=-1.0\n",
      "Step 116: State=[-0.19921119  0.00051327], Reward=-1.0\n",
      "Step 117: State=[-0.1997646  -0.00055341], Reward=-1.0\n",
      "Step 118: State=[-0.20138234 -0.00161774], Reward=-1.0\n",
      "Step 119: State=[-0.20405755 -0.00267521], Reward=-1.0\n",
      "Step 120: State=[-0.20777876 -0.00372121], Reward=-1.0\n",
      "Step 121: State=[-0.21252982 -0.00475105], Reward=-1.0\n",
      "Step 122: State=[-0.2182897  -0.00575988], Reward=-1.0\n",
      "Step 123: State=[-0.2250324 -0.0067427], Reward=-1.0\n",
      "Step 124: State=[-0.23272672 -0.00769432], Reward=-1.0\n",
      "Step 125: State=[-0.24133607 -0.00860935], Reward=-1.0\n",
      "Step 126: State=[-0.25081832 -0.00948224], Reward=-1.0\n",
      "Step 127: State=[-0.26112559 -0.01030728], Reward=-1.0\n",
      "Step 128: State=[-0.27220421 -0.01107861], Reward=-1.0\n",
      "Step 129: State=[-0.28399455 -0.01179035], Reward=-1.0\n",
      "Step 130: State=[-0.29643113 -0.01243658], Reward=-1.0\n",
      "Step 131: State=[-0.30944261 -0.01301148], Reward=-1.0\n",
      "Step 132: State=[-0.32295202 -0.01350941], Reward=-1.0\n",
      "Step 133: State=[-0.33687704 -0.01392502], Reward=-1.0\n",
      "Step 134: State=[-0.35113038 -0.01425334], Reward=-1.0\n",
      "Step 135: State=[-0.36562028 -0.0144899 ], Reward=-1.0\n",
      "Step 136: State=[-0.38025116 -0.01463088], Reward=-1.0\n",
      "Step 137: State=[-0.39492432 -0.01467316], Reward=-1.0\n",
      "Step 138: State=[-0.40953874 -0.01461442], Reward=-1.0\n",
      "Step 139: State=[-0.42399202 -0.01445328], Reward=-1.0\n",
      "Step 140: State=[-0.43818128 -0.01418926], Reward=-1.0\n",
      "Step 141: State=[-0.45200419 -0.0138229 ], Reward=-1.0\n",
      "Step 142: State=[-0.46535993 -0.01335574], Reward=-1.0\n",
      "Step 143: State=[-0.47815025 -0.01279032], Reward=-1.0\n",
      "Step 144: State=[-0.49028037 -0.01213013], Reward=-1.0\n",
      "Step 145: State=[-0.50165997 -0.0113796 ], Reward=-1.0\n",
      "Step 146: State=[-0.51220399 -0.01054402], Reward=-1.0\n",
      "Step 147: State=[-0.52183345 -0.00962946], Reward=-1.0\n",
      "Step 148: State=[-0.53047616 -0.0086427 ], Reward=-1.0\n",
      "Step 149: State=[-0.53806728 -0.00759113], Reward=-1.0\n",
      "Step 150: State=[-0.54454993 -0.00648265], Reward=-1.0\n",
      "Step 151: State=[-0.54987555 -0.00532562], Reward=-1.0\n",
      "Step 152: State=[-0.55400429 -0.00412875], Reward=-1.0\n",
      "Step 153: State=[-0.55690531 -0.00290102], Reward=-1.0\n",
      "Step 154: State=[-0.55855695 -0.00165164], Reward=-1.0\n",
      "Step 155: State=[-5.5894688e-01 -3.8993055e-04], Reward=-1.0\n",
      "Step 156: State=[-0.5580722   0.00087468], Reward=-1.0\n",
      "Step 157: State=[-0.55593942  0.00213277], Reward=-1.0\n",
      "Step 158: State=[-0.55256447  0.00337495], Reward=-1.0\n",
      "Step 159: State=[-0.54797256  0.00459192], Reward=-1.0\n",
      "Step 160: State=[-0.542198    0.00577456], Reward=-1.0\n",
      "Step 161: State=[-0.53528402  0.00691398], Reward=-1.0\n",
      "Step 162: State=[-0.52728242  0.0080016 ], Reward=-1.0\n",
      "Step 163: State=[-0.51825319  0.00902923], Reward=-1.0\n",
      "Step 164: State=[-0.50826405  0.00998914], Reward=-1.0\n",
      "Step 165: State=[-0.49738988  0.01087417], Reward=-1.0\n",
      "Step 166: State=[-0.48571208  0.0116778 ], Reward=-1.0\n",
      "Step 167: State=[-0.47331782  0.01239426], Reward=-1.0\n",
      "Step 168: State=[-0.46029923  0.01301859], Reward=-1.0\n",
      "Step 169: State=[-0.44675254  0.01354669], Reward=-1.0\n",
      "Step 170: State=[-0.43277711  0.01397543], Reward=-1.0\n",
      "Step 171: State=[-0.41847444  0.01430267], Reward=-1.0\n",
      "Step 172: State=[-0.4039472   0.01452724], Reward=-1.0\n",
      "Step 173: State=[-0.3892982  0.014649 ], Reward=-1.0\n",
      "Step 174: State=[-0.37462943  0.01466878], Reward=-1.0\n",
      "Step 175: State=[-0.3600411   0.01458833], Reward=-1.0\n",
      "Step 176: State=[-0.34563082  0.01441028], Reward=-1.0\n",
      "Step 177: State=[-0.33149278  0.01413803], Reward=-1.0\n",
      "Step 178: State=[-0.3177171   0.01377568], Reward=-1.0\n",
      "Step 179: State=[-0.30438921  0.01332789], Reward=-1.0\n",
      "Step 180: State=[-0.29158942  0.01279979], Reward=-1.0\n",
      "Step 181: State=[-0.27939257  0.01219685], Reward=-1.0\n",
      "Step 182: State=[-0.26786777  0.0115248 ], Reward=-1.0\n",
      "Step 183: State=[-0.25707826  0.01078951], Reward=-1.0\n",
      "Step 184: State=[-0.24708137  0.00999688], Reward=-1.0\n",
      "Step 185: State=[-0.23792856  0.00915281], Reward=-1.0\n",
      "Step 186: State=[-0.22966547  0.00826309], Reward=-1.0\n",
      "Step 187: State=[-0.2223321   0.00733338], Reward=-1.0\n",
      "Step 188: State=[-0.21596293  0.00636917], Reward=-1.0\n",
      "Step 189: State=[-0.21058716  0.00537577], Reward=-1.0\n",
      "Step 190: State=[-0.20622886  0.0043583 ], Reward=-1.0\n",
      "Step 191: State=[-0.20290716  0.0033217 ], Reward=-1.0\n",
      "Step 192: State=[-0.20063641  0.00227075], Reward=-1.0\n",
      "Step 193: State=[-0.19942631  0.00121011], Reward=-1.0\n",
      "Step 194: State=[-1.99281965e-01  1.44341652e-04], Reward=-1.0\n",
      "Step 195: State=[-0.200204   -0.00092203], Reward=-1.0\n",
      "Step 196: State=[-0.20218851 -0.00198451], Reward=-1.0\n",
      "Step 197: State=[-0.20522704 -0.00303853], Reward=-1.0\n",
      "Step 198: State=[-0.20930653 -0.00407949], Reward=-1.0\n",
      "Step 199: State=[-0.21440914 -0.00510261], Reward=-1.0\n",
      "Step 200: State=[-0.22051217 -0.00610302], Reward=-1.0\n"
     ]
    }
   ],
   "source": [
    "import gym\n",
    "\n",
    "if COLAB:\n",
    "  env = wrap_env(gym.make(\"MountainCar-v0\"))\n",
    "else:\n",
    "  env = gym.make(\"MountainCar-v0\")\n",
    "\n",
    "env.reset()\n",
    "done = False\n",
    "\n",
    "i = 0\n",
    "while not done:\n",
    "    i += 1\n",
    "    state, reward, done, _ = env.step(2)\n",
    "    env.render()\n",
    "    print(f\"Step {i}: State={state}, Reward={reward}\")\n",
    "    \n",
    "env.close()"
   ]
  },
  {
   "cell_type": "code",
   "execution_count": 0,
   "metadata": {
    "colab": {
     "base_uri": "https://localhost:8080/",
     "height": 421
    },
    "colab_type": "code",
    "id": "lrJxIxzpdI_s",
    "outputId": "61df6b05-2a40-4f15-d3f2-721c1514abeb"
   },
   "outputs": [
    {
     "data": {
      "text/html": [
       "<video alt=\"test\" autoplay \n",
       "                loop controls style=\"height: 400px;\">\n",
       "                <source src=\"data:video/mp4;base64,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\" type=\"video/mp4\" />\n",
       "             </video>"
      ],
      "text/plain": [
       "<IPython.core.display.HTML object>"
      ]
     },
     "metadata": {
      "tags": []
     },
     "output_type": "display_data"
    }
   ],
   "source": [
    "show_video()"
   ]
  },
  {
   "cell_type": "markdown",
   "metadata": {
    "colab_type": "text",
    "id": "IVcdwI-0-Nod"
   },
   "source": [
    "### Programmed Car\n",
    "\n",
    "Now we will look at a car that I hand-programmed.  This car is straightforward; however, it solves the problem. The programmed car always applies force to one direction or another.  It does not break.  Whatever direction the vehicle is currently rolling, the agent uses power in that direction.  Therefore, the car begins to climb a hill, is overpowered, and turns backward.  However, once it starts to roll backward force is immediately applied in this new direction.\n",
    "\n",
    "The following code implements this preprogrammed car."
   ]
  },
  {
   "cell_type": "code",
   "execution_count": 0,
   "metadata": {
    "colab": {
     "base_uri": "https://localhost:8080/",
     "height": 1000
    },
    "colab_type": "code",
    "id": "AMzYrqRy-Noe",
    "outputId": "7ae64efe-40cb-4576-9158-4674848a00c1"
   },
   "outputs": [
    {
     "name": "stdout",
     "output_type": "stream",
     "text": [
      "Step 1: State=[-0.57730941 -0.00060338], Reward=-1.0\n",
      "Step 2: State=[-0.5785117  -0.00120229], Reward=-1.0\n",
      "Step 3: State=[-0.580304  -0.0017923], Reward=-1.0\n",
      "Step 4: State=[-0.58267307 -0.00236906], Reward=-1.0\n",
      "Step 5: State=[-0.58560139 -0.00292832], Reward=-1.0\n",
      "Step 6: State=[-0.58906736 -0.00346598], Reward=-1.0\n",
      "Step 7: State=[-0.59304548 -0.00397811], Reward=-1.0\n",
      "Step 8: State=[-0.5975065  -0.00446102], Reward=-1.0\n",
      "Step 9: State=[-0.60241775 -0.00491125], Reward=-1.0\n",
      "Step 10: State=[-0.60774335 -0.0053256 ], Reward=-1.0\n",
      "Step 11: State=[-0.61344454 -0.00570119], Reward=-1.0\n",
      "Step 12: State=[-0.61948002 -0.00603548], Reward=-1.0\n",
      "Step 13: State=[-0.62580627 -0.00632625], Reward=-1.0\n",
      "Step 14: State=[-0.63237791 -0.00657165], Reward=-1.0\n",
      "Step 15: State=[-0.63914812 -0.00677021], Reward=-1.0\n",
      "Step 16: State=[-0.64606896 -0.00692084], Reward=-1.0\n",
      "Step 17: State=[-0.65309179 -0.00702284], Reward=-1.0\n",
      "Step 18: State=[-0.66016768 -0.00707588], Reward=-1.0\n",
      "Step 19: State=[-0.66724771 -0.00708003], Reward=-1.0\n",
      "Step 20: State=[-0.67428342 -0.00703571], Reward=-1.0\n",
      "Step 21: State=[-0.68122709 -0.00694367], Reward=-1.0\n",
      "Step 22: State=[-0.68803212 -0.00680503], Reward=-1.0\n",
      "Step 23: State=[-0.69465331 -0.00662119], Reward=-1.0\n",
      "Step 24: State=[-0.70104716 -0.00639385], Reward=-1.0\n",
      "Step 25: State=[-0.70717213 -0.00612496], Reward=-1.0\n",
      "Step 26: State=[-0.71298884 -0.00581671], Reward=-1.0\n",
      "Step 27: State=[-0.71846032 -0.00547148], Reward=-1.0\n",
      "Step 28: State=[-0.72355218 -0.00509185], Reward=-1.0\n",
      "Step 29: State=[-0.72823271 -0.00468053], Reward=-1.0\n",
      "Step 30: State=[-0.73247309 -0.00424038], Reward=-1.0\n",
      "Step 31: State=[-0.73624744 -0.00377435], Reward=-1.0\n",
      "Step 32: State=[-0.73953293 -0.00328548], Reward=-1.0\n",
      "Step 33: State=[-0.74230982 -0.00277689], Reward=-1.0\n",
      "Step 34: State=[-0.74456157 -0.00225175], Reward=-1.0\n",
      "Step 35: State=[-0.74627483 -0.00171326], Reward=-1.0\n",
      "Step 36: State=[-0.7474395  -0.00116466], Reward=-1.0\n",
      "Step 37: State=[-7.48048712e-01 -6.09216585e-04], Reward=-1.0\n",
      "Step 38: State=[-7.48098908e-01 -5.01962094e-05], Reward=-1.0\n",
      "Step 39: State=[-7.47589789e-01  5.09118450e-04], Reward=-1.0\n",
      "Step 40: State=[-0.74452434  0.00306545], Reward=-1.0\n",
      "Step 41: State=[-0.73892063  0.00560372], Reward=-1.0\n",
      "Step 42: State=[-0.73081198  0.00810864], Reward=-1.0\n",
      "Step 43: State=[-0.72024742  0.01056456], Reward=-1.0\n",
      "Step 44: State=[-0.70729207  0.01295535], Reward=-1.0\n",
      "Step 45: State=[-0.6920277   0.01526437], Reward=-1.0\n",
      "Step 46: State=[-0.67455318  0.01747452], Reward=-1.0\n",
      "Step 47: State=[-0.6549848   0.01956837], Reward=-1.0\n",
      "Step 48: State=[-0.63345635  0.02152845], Reward=-1.0\n",
      "Step 49: State=[-0.61011881  0.02333755], Reward=-1.0\n",
      "Step 50: State=[-0.58513962  0.02497919], Reward=-1.0\n",
      "Step 51: State=[-0.5587015   0.02643812], Reward=-1.0\n",
      "Step 52: State=[-0.53100059  0.02770091], Reward=-1.0\n",
      "Step 53: State=[-0.50224417  0.02875642], Reward=-1.0\n",
      "Step 54: State=[-0.4726478   0.02959637], Reward=-1.0\n",
      "Step 55: State=[-0.44243208  0.03021572], Reward=-1.0\n",
      "Step 56: State=[-0.41181911  0.03061297], Reward=-1.0\n",
      "Step 57: State=[-0.38102886  0.03079025], Reward=-1.0\n",
      "Step 58: State=[-0.35027559  0.03075328], Reward=-1.0\n",
      "Step 59: State=[-0.31976445  0.03051114], Reward=-1.0\n",
      "Step 60: State=[-0.28968855  0.0300759 ], Reward=-1.0\n",
      "Step 61: State=[-0.26022651  0.02946204], Reward=-1.0\n",
      "Step 62: State=[-0.23154055  0.02868596], Reward=-1.0\n",
      "Step 63: State=[-0.20377533  0.02776522], Reward=-1.0\n",
      "Step 64: State=[-0.17705734  0.026718  ], Reward=-1.0\n",
      "Step 65: State=[-0.15149488  0.02556246], Reward=-1.0\n",
      "Step 66: State=[-0.12717863  0.02431624], Reward=-1.0\n",
      "Step 67: State=[-0.10418263  0.02299601], Reward=-1.0\n",
      "Step 68: State=[-0.0825655   0.02161713], Reward=-1.0\n",
      "Step 69: State=[-0.06237207  0.02019343], Reward=-1.0\n",
      "Step 70: State=[-0.04363501  0.01873706], Reward=-1.0\n",
      "Step 71: State=[-0.02637656  0.01725845], Reward=-1.0\n",
      "Step 72: State=[-0.01061028  0.01576628], Reward=-1.0\n",
      "Step 73: State=[0.00365726 0.01426754], Reward=-1.0\n",
      "Step 74: State=[0.01642496 0.01276769], Reward=-1.0\n",
      "Step 75: State=[0.02769568 0.01127073], Reward=-1.0\n",
      "Step 76: State=[0.03747504 0.00977935], Reward=-1.0\n",
      "Step 77: State=[0.04577017 0.00829513], Reward=-1.0\n",
      "Step 78: State=[0.05258884 0.00681867], Reward=-1.0\n",
      "Step 79: State=[0.05793855 0.00534971], Reward=-1.0\n",
      "Step 80: State=[0.06182593 0.00388738], Reward=-1.0\n",
      "Step 81: State=[0.0642562  0.00243026], Reward=-1.0\n",
      "Step 82: State=[0.06523276 0.00097657], Reward=-1.0\n",
      "Step 83: State=[ 0.06475705 -0.00047571], Reward=-1.0\n",
      "Step 84: State=[ 0.06082837 -0.00392868], Reward=-1.0\n",
      "Step 85: State=[ 0.0534412  -0.00738717], Reward=-1.0\n",
      "Step 86: State=[ 0.04258609 -0.01085511], Reward=-1.0\n",
      "Step 87: State=[ 0.02825135 -0.01433474], Reward=-1.0\n",
      "Step 88: State=[ 0.01042559 -0.01782576], Reward=-1.0\n",
      "Step 89: State=[-0.01089895 -0.02132454], Reward=-1.0\n",
      "Step 90: State=[-0.03572216 -0.0248232 ], Reward=-1.0\n",
      "Step 91: State=[-0.06403102 -0.02830886], Reward=-1.0\n",
      "Step 92: State=[-0.0957939  -0.03176288], Reward=-1.0\n",
      "Step 93: State=[-0.13095425 -0.03516035], Reward=-1.0\n",
      "Step 94: State=[-0.16942414 -0.03846989], Reward=-1.0\n",
      "Step 95: State=[-0.21107801 -0.04165386], Reward=-1.0\n",
      "Step 96: State=[-0.25574716 -0.04466916], Reward=-1.0\n",
      "Step 97: State=[-0.30321589 -0.04746873], Reward=-1.0\n",
      "Step 98: State=[-0.35321967 -0.05000379], Reward=-1.0\n",
      "Step 99: State=[-0.40544638 -0.05222671], Reward=-1.0\n",
      "Step 100: State=[-0.4595408  -0.05409441], Reward=-1.0\n",
      "Step 101: State=[-0.51511269 -0.0555719 ], Reward=-1.0\n",
      "Step 102: State=[-0.57174823 -0.05663553], Reward=-1.0\n",
      "Step 103: State=[-0.6290239  -0.05727567], Reward=-1.0\n",
      "Step 104: State=[-0.68652199 -0.0574981 ], Reward=-1.0\n",
      "Step 105: State=[-0.74384624 -0.05732425], Reward=-1.0\n",
      "Step 106: State=[-0.80063623 -0.05678999], Reward=-1.0\n",
      "Step 107: State=[-0.85657951 -0.05594328], Reward=-1.0\n",
      "Step 108: State=[-0.91142055 -0.05484104], Reward=-1.0\n",
      "Step 109: State=[-0.96496613 -0.05354558], Reward=-1.0\n",
      "Step 110: State=[-1.0170874  -0.05212127], Reward=-1.0\n",
      "Step 111: State=[-1.06771887 -0.05063146], Reward=-1.0\n",
      "Step 112: State=[-1.11685507 -0.0491362 ], Reward=-1.0\n",
      "Step 113: State=[-1.16454566 -0.04769059], Reward=-1.0\n",
      "Step 114: State=[-1.2  0. ], Reward=-1.0\n",
      "Step 115: State=[-1.1987581  0.0012419], Reward=-1.0\n",
      "Step 116: State=[-1.19427021  0.0044879 ], Reward=-1.0\n",
      "Step 117: State=[-1.18652173  0.00774848], Reward=-1.0\n",
      "Step 118: State=[-1.17548846  0.01103326], Reward=-1.0\n",
      "Step 119: State=[-1.16113808  0.01435038], Reward=-1.0\n",
      "Step 120: State=[-1.14343234  0.01770574], Reward=-1.0\n",
      "Step 121: State=[-1.12233007  0.02110228], Reward=-1.0\n",
      "Step 122: State=[-1.09779103  0.02453904], Reward=-1.0\n",
      "Step 123: State=[-1.06978073  0.0280103 ], Reward=-1.0\n",
      "Step 124: State=[-1.03827616  0.03150456], Reward=-1.0\n",
      "Step 125: State=[-1.0032725   0.03500367], Reward=-1.0\n",
      "Step 126: State=[-0.9647905   0.03848199], Reward=-1.0\n",
      "Step 127: State=[-0.92288452  0.04190598], Reward=-1.0\n",
      "Step 128: State=[-0.87765038  0.04523414], Reward=-1.0\n",
      "Step 129: State=[-0.82923273  0.04841765], Reward=-1.0\n",
      "Step 130: State=[-0.77783078  0.05140195], Reward=-1.0\n",
      "Step 131: State=[-0.72370164  0.05412914], Reward=-1.0\n",
      "Step 132: State=[-0.66716026  0.05654138], Reward=-1.0\n",
      "Step 133: State=[-0.60857514  0.05858511], Reward=-1.0\n",
      "Step 134: State=[-0.54835959  0.06021555], Reward=-1.0\n",
      "Step 135: State=[-0.4869585   0.06140109], Reward=-1.0\n",
      "Step 136: State=[-0.42483166  0.06212684], Reward=-1.0\n",
      "Step 137: State=[-0.36243478  0.06239688], Reward=-1.0\n",
      "Step 138: State=[-0.30020009  0.06223469], Reward=-1.0\n",
      "Step 139: State=[-0.23851824  0.06168185], Reward=-1.0\n",
      "Step 140: State=[-0.17772322  0.06079502], Reward=-1.0\n",
      "Step 141: State=[-0.1180812   0.05964202], Reward=-1.0\n",
      "Step 142: State=[-0.05978395  0.05829725], Reward=-1.0\n",
      "Step 143: State=[-0.0029466   0.05683735], Reward=-1.0\n",
      "Step 144: State=[0.05239085 0.05533745], Reward=-1.0\n",
      "Step 145: State=[0.10625911 0.05386826], Reward=-1.0\n",
      "Step 146: State=[0.15875332 0.05249421], Reward=-1.0\n",
      "Step 147: State=[0.21002575 0.05127242], Reward=-1.0\n",
      "Step 148: State=[0.26027822 0.05025247], Reward=-1.0\n",
      "Step 149: State=[0.30975487 0.04947665], Reward=-1.0\n",
      "Step 150: State=[0.35873547 0.0489806 ], Reward=-1.0\n",
      "Step 151: State=[0.40752939 0.04879392], Reward=-1.0\n",
      "Step 152: State=[0.45647027 0.04894088], Reward=-1.0\n",
      "Step 153: State=[0.50591109 0.04944082], Reward=-1.0\n"
     ]
    }
   ],
   "source": [
    "import gym\n",
    "\n",
    "if COLAB:\n",
    "  env = wrap_env(gym.make(\"MountainCar-v0\"))\n",
    "else:\n",
    "  env = gym.make(\"MountainCar-v0\")\n",
    "  \n",
    "state = env.reset()\n",
    "done = False\n",
    "\n",
    "i = 0\n",
    "while not done:\n",
    "    i += 1\n",
    "    \n",
    "    if state[1]>0:\n",
    "        action = 2\n",
    "    else:\n",
    "        action = 0\n",
    "    \n",
    "    state, reward, done, _ = env.step(action)\n",
    "    env.render()\n",
    "    print(f\"Step {i}: State={state}, Reward={reward}\")\n",
    "    \n",
    "env.close()"
   ]
  },
  {
   "cell_type": "markdown",
   "metadata": {
    "colab_type": "text",
    "id": "eDSKmI___tEl"
   },
   "source": [
    "We now visualize the preprogrammed car solving the problem."
   ]
  },
  {
   "cell_type": "code",
   "execution_count": 0,
   "metadata": {
    "colab": {
     "base_uri": "https://localhost:8080/",
     "height": 421
    },
    "colab_type": "code",
    "id": "_FyIrJokfDA6",
    "outputId": "64c4c788-2037-4831-9de5-e394608911da"
   },
   "outputs": [
    {
     "data": {
      "text/html": [
       "<video alt=\"test\" autoplay \n",
       "                loop controls style=\"height: 400px;\">\n",
       "                <source src=\"data:video/mp4;base64,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\" type=\"video/mp4\" />\n",
       "             </video>"
      ],
      "text/plain": [
       "<IPython.core.display.HTML object>"
      ]
     },
     "metadata": {
      "tags": []
     },
     "output_type": "display_data"
    }
   ],
   "source": [
    "show_video()"
   ]
  },
  {
   "cell_type": "markdown",
   "metadata": {
    "colab_type": "text",
    "id": "QAyqqoy9-Nog"
   },
   "source": [
    "### Reinforcement Learning\n",
    "\n",
    "Q-Learning is a system of rewards that the algorithm gives an agent for successfully moving the environment into a state considered successful.  These rewards are the Q-values from which this algorithm takes its name.  The final output from the Q-Learning algorithm is a table of Q-values that indicate the reward value of every action that the agent can take, given every possible environment state. The agent must bin continuous state values into a fixed finite number of columns.\n",
    "\n",
    "Learning occurs when the algorithm runs the agent and environment through a series of episodes and updates the Q-values based on the rewards received from actions taken; Figure 12.REINF provides a high-level overview of this reinforcement or Q-Learning loop.\n",
    "\n",
    "**Figure 12.REINF:Reinforcement/Q Learning**\n",
    "![Reinforcement Learning](https://raw.githubusercontent.com/jeffheaton/t81_558_deep_learning/master/images/reinforcement.png \"Reinforcement Learning\")\n",
    "\n",
    "The Q-values can dictate action by selecting the action column with the highest Q-value for the current environment state.  The choice between choosing a random action and a Q-value driven action is governed by the epsilon ($\\epsilon$) parameter, which is the probability of random action.\n",
    "\n",
    "Each time through the training loop, the training algorithm updates the Q-values according to the following equation.\n"
   ]
  },
  {
   "cell_type": "markdown",
   "metadata": {},
   "source": [
    "$Q^{new}(s_{t},a_{t}) \\leftarrow \\underbrace{Q(s_{t},a_{t})}_{\\text{old value}} + \\underbrace{\\alpha}_{\\text{learning rate}} \\cdot  \\overbrace{\\bigg( \\underbrace{\\underbrace{r_{t}}_{\\text{reward}} + \\underbrace{\\gamma}_{\\text{discount factor}} \\cdot \\underbrace{\\max_{a}Q(s_{t+1}, a)}_{\\text{estimate of optimal future value}}}_{\\text{new value (temporal difference target)}} - \\underbrace{Q(s_{t},a_{t})}_{\\text{old value}} \\bigg) }^{\\text{temporal difference}}$\n",
    "\n",
    "There are several parameters in this equation:\n",
    "* alpha ($\\alpha$) - The learning rate, how much should the current step cause the Q-values to be updated.\n",
    "* lambda ($\\lambda$) - The discount factor is the percentage of future reward that the algorithm should consider in this update.\n",
    "\n",
    "This equation modifies several values:\n",
    "\n",
    "* $Q(s_t,a_t)$ - The Q-table.  For each combination of states, what reward would the agent likely receive for performing each action?\n",
    "* $s_t$ - The current state.\n",
    "* $r_t$ - The last reward received.\n",
    "* $a_t$ - The action that the agent will perform.\n",
    "\n",
    "The equation works by calculating a delta (temporal difference) that the equation should apply to the old state.  This learning rate ($\\alpha$) scales this delta.  A learning rate of 1.0 would fully implement the temporal difference to the Q-values each iteration and would likely be very chaotic.\n",
    "\n",
    "There are two parts to the temporal difference: the new and old values.  The new value is subtracted from the old value to provide a delta; the full amount that we would change the Q-value by if the learning rate did not scale this value.  The new value is a summation of the reward received from the last action and the maximum of the Q-values from the resulting state when the client takes this action. It is essential to add the maximum of action Q-values for the new state because it estimates the optimal future values from proceeding with this action. \n",
    "\n",
    "### Q-Learning Car\n",
    "\n",
    "We will now use Q-Learning to produce a car that learns to drive itself.  Look out, Tesla!  We begin by defining two essential functions.\n"
   ]
  },
  {
   "cell_type": "code",
   "execution_count": 1,
   "metadata": {
    "colab": {},
    "colab_type": "code",
    "id": "UrQgXqbS-Noi"
   },
   "outputs": [],
   "source": [
    "import gym\n",
    "import numpy as np\n",
    "\n",
    "# This function converts the floating point state values into \n",
    "# discrete values. This is often called binning.  We divide \n",
    "# the range that the state values might occupy and assign \n",
    "# each region to a bucket.\n",
    "def calc_discrete_state(state):\n",
    "    discrete_state = (state - env.observation_space.low)/buckets\n",
    "    return tuple(discrete_state.astype(np.int))  \n",
    "\n",
    "# Run one game.  The q_table to use is provided.  We also \n",
    "# provide a flag to indicate if the game should be \n",
    "# rendered/animated.  Finally, we also provide\n",
    "# a flag to indicate if the q_table should be updated.\n",
    "def run_game(q_table, render, should_update):\n",
    "    done = False\n",
    "    discrete_state = calc_discrete_state(env.reset())\n",
    "    success = False\n",
    "    \n",
    "    while not done:\n",
    "        # Exploit or explore\n",
    "        if np.random.random() > epsilon:\n",
    "            # Exploit - use q-table to take current best action \n",
    "            # (and probably refine)\n",
    "            action = np.argmax(q_table[discrete_state])\n",
    "        else:\n",
    "            # Explore - t\n",
    "            action = np.random.randint(0, env.action_space.n)\n",
    "            \n",
    "        # Run simulation step\n",
    "        new_state, reward, done, _ = env.step(action)\n",
    "        \n",
    "        # Convert continuous state to discrete\n",
    "        new_state_disc = calc_discrete_state(new_state)\n",
    "\n",
    "        # Have we reached the goal position (have we won?)?\n",
    "        if new_state[0] >= env.unwrapped.goal_position:\n",
    "            success = True\n",
    "          \n",
    "        # Update q-table\n",
    "        if should_update:\n",
    "            max_future_q = np.max(q_table[new_state_disc])\n",
    "            current_q = q_table[discrete_state + (action,)]\n",
    "            new_q = (1 - LEARNING_RATE) * current_q + LEARNING_RATE * \\\n",
    "              (reward + DISCOUNT * max_future_q)\n",
    "            q_table[discrete_state + (action,)] = new_q\n",
    "\n",
    "        discrete_state = new_state_disc\n",
    "        \n",
    "        if render:\n",
    "            env.render()\n",
    "            \n",
    "    return success\n"
   ]
  },
  {
   "cell_type": "markdown",
   "metadata": {
    "colab_type": "text",
    "id": "n3j1M4MddIBF"
   },
   "source": [
    "Several hyperparameters are very important for Q-Learning. These parameters will likely need adjustment as you apply Q-Learning to other problems.  Because of this, it is crucial to understand the role of each parameter.\n",
    "\n",
    "* **LEARNING_RATE** The rate at which previous Q-values are updated based on new episodes run during training. \n",
    "* **DISCOUNT** The amount of significance to give estimates of future rewards when added to the reward for the current action taken.  A value of 0.95 would indicate a discount of 5% to the future reward estimates. \n",
    "* **EPISODES** The number of episodes to train over.  Increase this for more complex problems; however, training time also increases.\n",
    "* **SHOW_EVERY** How many episodes to allow to elapse before showing an update.\n",
    "* **DISCRETE_GRID_SIZE** How many buckets to use when converting each of the continuous state variables.  For example, [10, 10] indicates that the algorithm should use ten buckets for the first and second state variables.\n",
    "* **START_EPSILON_DECAYING** Epsilon is the probability that the agent will select a random action over what the Q-Table suggests. This value determines the starting probability of randomness.\n",
    "* **END_EPSILON_DECAYING** How many episodes should elapse before epsilon goes to zero and no random actions are permitted. For example, EPISODES//10  means only the first 1/10th of the episodes might have random actions."
   ]
  },
  {
   "cell_type": "code",
   "execution_count": 0,
   "metadata": {
    "colab": {},
    "colab_type": "code",
    "id": "rI0TJc7T-Nol"
   },
   "outputs": [],
   "source": [
    "LEARNING_RATE = 0.1\n",
    "DISCOUNT = 0.95\n",
    "EPISODES = 50000\n",
    "SHOW_EVERY = 1000\n",
    "\n",
    "DISCRETE_GRID_SIZE = [10, 10]\n",
    "START_EPSILON_DECAYING = 0.5\n",
    "END_EPSILON_DECAYING = EPISODES//10"
   ]
  },
  {
   "cell_type": "markdown",
   "metadata": {
    "colab_type": "text",
    "id": "Rw3SjzSyAktT"
   },
   "source": [
    "We can now make the environment.  If we are running in Google COLAB then we wrap the environment to be displayed inside the web browser.  Next create the discrete buckets for state and build Q-table."
   ]
  },
  {
   "cell_type": "code",
   "execution_count": 0,
   "metadata": {
    "colab": {},
    "colab_type": "code",
    "id": "2IdL-46y-Noo"
   },
   "outputs": [],
   "source": [
    "if COLAB:\n",
    "  env = wrap_env(gym.make(\"MountainCar-v0\"))\n",
    "else:\n",
    "  env = gym.make(\"MountainCar-v0\")\n",
    "\n",
    "epsilon = 1  \n",
    "epsilon_change = epsilon/(END_EPSILON_DECAYING - START_EPSILON_DECAYING)\n",
    "buckets = (env.observation_space.high - env.observation_space.low) \\\n",
    "    /DISCRETE_GRID_SIZE\n",
    "q_table = np.random.uniform(low=-3, high=0, size=(DISCRETE_GRID_SIZE \\\n",
    "    + [env.action_space.n]))\n",
    "success = False"
   ]
  },
  {
   "cell_type": "markdown",
   "metadata": {
    "colab_type": "text",
    "id": "Z2qG3ayDsRWz"
   },
   "source": [
    "We can now make the environment.  If we are running in Google COLAB then we wrap the environment to be displayed inside the web browser.  Next, create the discrete buckets for state and build Q-table."
   ]
  },
  {
   "cell_type": "code",
   "execution_count": 0,
   "metadata": {
    "colab": {
     "base_uri": "https://localhost:8080/",
     "height": 884
    },
    "colab_type": "code",
    "id": "Ot7cF0bX-Nor",
    "outputId": "92e0504b-93ea-4c8c-f1b5-47b9cacb75f6"
   },
   "outputs": [
    {
     "name": "stdout",
     "output_type": "stream",
     "text": [
      "Current episode: 1000, success: 0 (0.0)\n",
      "Current episode: 2000, success: 0 (0.0)\n",
      "Current episode: 3000, success: 0 (0.0)\n",
      "Current episode: 4000, success: 29 (0.029)\n",
      "Current episode: 5000, success: 345 (0.345)\n",
      "Current episode: 6000, success: 834 (0.834)\n",
      "Current episode: 7000, success: 797 (0.797)\n",
      "Current episode: 8000, success: 679 (0.679)\n",
      "Current episode: 9000, success: 600 (0.6)\n",
      "Current episode: 10000, success: 728 (0.728)\n",
      "Current episode: 11000, success: 205 (0.205)\n",
      "Current episode: 12000, success: 612 (0.612)\n",
      "Current episode: 13000, success: 733 (0.733)\n",
      "Current episode: 14000, success: 1000 (1.0)\n",
      "Current episode: 15000, success: 998 (0.998)\n",
      "Current episode: 16000, success: 879 (0.879)\n",
      "Current episode: 17000, success: 510 (0.51)\n",
      "Current episode: 18000, success: 615 (0.615)\n",
      "Current episode: 19000, success: 220 (0.22)\n",
      "Current episode: 20000, success: 445 (0.445)\n",
      "Current episode: 21000, success: 627 (0.627)\n",
      "Current episode: 22000, success: 597 (0.597)\n",
      "Current episode: 23000, success: 827 (0.827)\n",
      "Current episode: 24000, success: 862 (0.862)\n",
      "Current episode: 25000, success: 322 (0.322)\n",
      "Current episode: 26000, success: 632 (0.632)\n",
      "Current episode: 27000, success: 613 (0.613)\n",
      "Current episode: 28000, success: 409 (0.409)\n",
      "Current episode: 29000, success: 379 (0.379)\n",
      "Current episode: 30000, success: 320 (0.32)\n",
      "Current episode: 31000, success: 327 (0.327)\n",
      "Current episode: 32000, success: 302 (0.302)\n",
      "Current episode: 33000, success: 308 (0.308)\n",
      "Current episode: 34000, success: 336 (0.336)\n",
      "Current episode: 35000, success: 274 (0.274)\n",
      "Current episode: 36000, success: 281 (0.281)\n",
      "Current episode: 37000, success: 301 (0.301)\n",
      "Current episode: 38000, success: 322 (0.322)\n",
      "Current episode: 39000, success: 292 (0.292)\n",
      "Current episode: 40000, success: 299 (0.299)\n",
      "Current episode: 41000, success: 281 (0.281)\n",
      "Current episode: 42000, success: 233 (0.233)\n",
      "Current episode: 43000, success: 380 (0.38)\n",
      "Current episode: 44000, success: 598 (0.598)\n",
      "Current episode: 45000, success: 933 (0.933)\n",
      "Current episode: 46000, success: 986 (0.986)\n",
      "Current episode: 47000, success: 1000 (1.0)\n",
      "Current episode: 48000, success: 1000 (1.0)\n",
      "Current episode: 49000, success: 1000 (1.0)\n",
      "Current episode: 50000, success: 1000 (1.0)\n",
      "True\n"
     ]
    }
   ],
   "source": [
    "episode = 0\n",
    "success_count = 0\n",
    "\n",
    "# Loop through the required number of episodes\n",
    "while episode<EPISODES:\n",
    "    episode+=1\n",
    "    done = False\n",
    "\n",
    "    # Run the game.  If we are local, display render animation at SHOW_EVERY\n",
    "    # intervals. \n",
    "    if episode % SHOW_EVERY == 0:\n",
    "        print(f\"Current episode: {episode}, success: {success_count}\" +\\\n",
    "              \" ({float(success_count)/SHOW_EVERY})\")\n",
    "        success = run_game(q_table, True, False)\n",
    "        success_count = 0\n",
    "    else:\n",
    "        success = run_game(q_table, False, True)\n",
    "        \n",
    "    # Count successes\n",
    "    if success:\n",
    "        success_count += 1\n",
    "\n",
    "    # Move epsilon towards its ending value, if it still needs to move\n",
    "    if END_EPSILON_DECAYING >= episode >= START_EPSILON_DECAYING:\n",
    "        epsilon = max(0, epsilon - epsilon_change)\n",
    "\n",
    "print(success)"
   ]
  },
  {
   "cell_type": "markdown",
   "metadata": {
    "colab_type": "text",
    "id": "kDHTQkREFRSE"
   },
   "source": [
    "As you can see, the number of successful episodes generally increases as training progresses.  It is not advisable to stop the first time that we observe 100% success over 1,000 episodes. There is a randomness to most games, so it is not likely that an agent would retain its 100% success rate with a new run.  Once you observe that the agent has gotten 100% for several update intervals, it might be safe to stop training."
   ]
  },
  {
   "cell_type": "markdown",
   "metadata": {
    "colab_type": "text",
    "id": "dMPR70U0sY7o"
   },
   "source": [
    "# Running and Observing the Agent\n",
    "\n",
    "Now that the algorithm has trained the agent, we can observe the agent in action. You can use the following code to see the agent in action."
   ]
  },
  {
   "cell_type": "code",
   "execution_count": 0,
   "metadata": {
    "colab": {
     "base_uri": "https://localhost:8080/",
     "height": 421
    },
    "colab_type": "code",
    "id": "v_mf3A0h-Nox",
    "outputId": "38d34522-667b-4de3-e84d-b0311e88f1ca"
   },
   "outputs": [
    {
     "data": {
      "text/html": [
       "<video alt=\"test\" autoplay \n",
       "                loop controls style=\"height: 400px;\">\n",
       "                <source src=\"data:video/mp4;base64,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\" type=\"video/mp4\" />\n",
       "             </video>"
      ],
      "text/plain": [
       "<IPython.core.display.HTML object>"
      ]
     },
     "metadata": {
      "tags": []
     },
     "output_type": "display_data"
    }
   ],
   "source": [
    "run_game(q_table, True, False)\n",
    "show_video()"
   ]
  },
  {
   "cell_type": "markdown",
   "metadata": {
    "colab_type": "text",
    "id": "WeQzNFSosdys"
   },
   "source": [
    "# Inspecting the Q-Table\n",
    "\n",
    "We can also display the Q-table.  The following code shows the action that the agent would perform for each environment state.  As the weights of a neural network, this table is not straightforward to interpret.  Some patterns do emerge in that directions do arise, as seen by calculating the means of rows and columns. The actions seem consistent at upper and lower halves of both velocity and position."
   ]
  },
  {
   "cell_type": "code",
   "execution_count": 0,
   "metadata": {
    "colab": {
     "base_uri": "https://localhost:8080/",
     "height": 359
    },
    "colab_type": "code",
    "id": "L62lyCTr-Noz",
    "outputId": "1d983119-83fa-490f-957e-8dd580b8425d"
   },
   "outputs": [
    {
     "data": {
      "text/html": [
       "<div>\n",
       "<style scoped>\n",
       "    .dataframe tbody tr th:only-of-type {\n",
       "        vertical-align: middle;\n",
       "    }\n",
       "\n",
       "    .dataframe tbody tr th {\n",
       "        vertical-align: top;\n",
       "    }\n",
       "\n",
       "    .dataframe thead th {\n",
       "        text-align: right;\n",
       "    }\n",
       "</style>\n",
       "<table border=\"1\" class=\"dataframe\">\n",
       "  <thead>\n",
       "    <tr style=\"text-align: right;\">\n",
       "      <th></th>\n",
       "      <th>v-0</th>\n",
       "      <th>v-1</th>\n",
       "      <th>v-2</th>\n",
       "      <th>v-3</th>\n",
       "      <th>v-4</th>\n",
       "      <th>v-5</th>\n",
       "      <th>v-6</th>\n",
       "      <th>v-7</th>\n",
       "      <th>v-8</th>\n",
       "      <th>v-9</th>\n",
       "    </tr>\n",
       "  </thead>\n",
       "  <tbody>\n",
       "    <tr>\n",
       "      <th>p-0</th>\n",
       "      <td>2</td>\n",
       "      <td>0</td>\n",
       "      <td>1</td>\n",
       "      <td>1</td>\n",
       "      <td>2</td>\n",
       "      <td>2</td>\n",
       "      <td>2</td>\n",
       "      <td>1</td>\n",
       "      <td>1</td>\n",
       "      <td>1</td>\n",
       "    </tr>\n",
       "    <tr>\n",
       "      <th>p-1</th>\n",
       "      <td>0</td>\n",
       "      <td>1</td>\n",
       "      <td>1</td>\n",
       "      <td>2</td>\n",
       "      <td>0</td>\n",
       "      <td>2</td>\n",
       "      <td>2</td>\n",
       "      <td>2</td>\n",
       "      <td>2</td>\n",
       "      <td>2</td>\n",
       "    </tr>\n",
       "    <tr>\n",
       "      <th>p-2</th>\n",
       "      <td>0</td>\n",
       "      <td>0</td>\n",
       "      <td>1</td>\n",
       "      <td>2</td>\n",
       "      <td>2</td>\n",
       "      <td>2</td>\n",
       "      <td>2</td>\n",
       "      <td>1</td>\n",
       "      <td>2</td>\n",
       "      <td>1</td>\n",
       "    </tr>\n",
       "    <tr>\n",
       "      <th>p-3</th>\n",
       "      <td>0</td>\n",
       "      <td>0</td>\n",
       "      <td>0</td>\n",
       "      <td>0</td>\n",
       "      <td>0</td>\n",
       "      <td>2</td>\n",
       "      <td>2</td>\n",
       "      <td>2</td>\n",
       "      <td>2</td>\n",
       "      <td>2</td>\n",
       "    </tr>\n",
       "    <tr>\n",
       "      <th>p-4</th>\n",
       "      <td>0</td>\n",
       "      <td>0</td>\n",
       "      <td>0</td>\n",
       "      <td>0</td>\n",
       "      <td>0</td>\n",
       "      <td>0</td>\n",
       "      <td>2</td>\n",
       "      <td>0</td>\n",
       "      <td>2</td>\n",
       "      <td>2</td>\n",
       "    </tr>\n",
       "    <tr>\n",
       "      <th>p-5</th>\n",
       "      <td>1</td>\n",
       "      <td>0</td>\n",
       "      <td>1</td>\n",
       "      <td>0</td>\n",
       "      <td>0</td>\n",
       "      <td>0</td>\n",
       "      <td>2</td>\n",
       "      <td>1</td>\n",
       "      <td>2</td>\n",
       "      <td>2</td>\n",
       "    </tr>\n",
       "    <tr>\n",
       "      <th>p-6</th>\n",
       "      <td>2</td>\n",
       "      <td>2</td>\n",
       "      <td>0</td>\n",
       "      <td>0</td>\n",
       "      <td>0</td>\n",
       "      <td>0</td>\n",
       "      <td>2</td>\n",
       "      <td>0</td>\n",
       "      <td>1</td>\n",
       "      <td>0</td>\n",
       "    </tr>\n",
       "    <tr>\n",
       "      <th>p-7</th>\n",
       "      <td>1</td>\n",
       "      <td>0</td>\n",
       "      <td>0</td>\n",
       "      <td>0</td>\n",
       "      <td>0</td>\n",
       "      <td>0</td>\n",
       "      <td>0</td>\n",
       "      <td>2</td>\n",
       "      <td>2</td>\n",
       "      <td>0</td>\n",
       "    </tr>\n",
       "    <tr>\n",
       "      <th>p-8</th>\n",
       "      <td>1</td>\n",
       "      <td>0</td>\n",
       "      <td>2</td>\n",
       "      <td>0</td>\n",
       "      <td>2</td>\n",
       "      <td>2</td>\n",
       "      <td>2</td>\n",
       "      <td>2</td>\n",
       "      <td>1</td>\n",
       "      <td>0</td>\n",
       "    </tr>\n",
       "    <tr>\n",
       "      <th>p-9</th>\n",
       "      <td>2</td>\n",
       "      <td>2</td>\n",
       "      <td>0</td>\n",
       "      <td>2</td>\n",
       "      <td>0</td>\n",
       "      <td>0</td>\n",
       "      <td>1</td>\n",
       "      <td>2</td>\n",
       "      <td>0</td>\n",
       "      <td>2</td>\n",
       "    </tr>\n",
       "  </tbody>\n",
       "</table>\n",
       "</div>"
      ],
      "text/plain": [
       "     v-0  v-1  v-2  v-3  v-4  v-5  v-6  v-7  v-8  v-9\n",
       "p-0    2    0    1    1    2    2    2    1    1    1\n",
       "p-1    0    1    1    2    0    2    2    2    2    2\n",
       "p-2    0    0    1    2    2    2    2    1    2    1\n",
       "p-3    0    0    0    0    0    2    2    2    2    2\n",
       "p-4    0    0    0    0    0    0    2    0    2    2\n",
       "p-5    1    0    1    0    0    0    2    1    2    2\n",
       "p-6    2    2    0    0    0    0    2    0    1    0\n",
       "p-7    1    0    0    0    0    0    0    2    2    0\n",
       "p-8    1    0    2    0    2    2    2    2    1    0\n",
       "p-9    2    2    0    2    0    0    1    2    0    2"
      ]
     },
     "execution_count": 14,
     "metadata": {
      "tags": []
     },
     "output_type": "execute_result"
    }
   ],
   "source": [
    "import pandas as pd\n",
    "\n",
    "df = pd.DataFrame(q_table.argmax(axis=2))\n",
    "\n",
    "df.columns = [f'v-{x}' for x in range(DISCRETE_GRID_SIZE[0])]\n",
    "df.index = [f'p-{x}' for x in range(DISCRETE_GRID_SIZE[1])]\n",
    "df"
   ]
  },
  {
   "cell_type": "code",
   "execution_count": 0,
   "metadata": {
    "colab": {
     "base_uri": "https://localhost:8080/",
     "height": 204
    },
    "colab_type": "code",
    "id": "Z-ZOL-d5Jbon",
    "outputId": "77de2b61-b460-423f-e5e6-97bff7070d72"
   },
   "outputs": [
    {
     "data": {
      "text/plain": [
       "v-0    0.9\n",
       "v-1    0.5\n",
       "v-2    0.6\n",
       "v-3    0.7\n",
       "v-4    0.6\n",
       "v-5    1.0\n",
       "v-6    1.7\n",
       "v-7    1.3\n",
       "v-8    1.5\n",
       "v-9    1.2\n",
       "dtype: float64"
      ]
     },
     "execution_count": 26,
     "metadata": {
      "tags": []
     },
     "output_type": "execute_result"
    }
   ],
   "source": [
    "df.mean(axis=0)"
   ]
  },
  {
   "cell_type": "code",
   "execution_count": 0,
   "metadata": {
    "colab": {
     "base_uri": "https://localhost:8080/",
     "height": 204
    },
    "colab_type": "code",
    "id": "LOGA4HP9KHW3",
    "outputId": "388ec235-1926-4801-88f2-ff852239dc16"
   },
   "outputs": [
    {
     "data": {
      "text/plain": [
       "p-0    1.3\n",
       "p-1    1.4\n",
       "p-2    1.3\n",
       "p-3    1.0\n",
       "p-4    0.6\n",
       "p-5    0.9\n",
       "p-6    0.7\n",
       "p-7    0.5\n",
       "p-8    1.2\n",
       "p-9    1.1\n",
       "dtype: float64"
      ]
     },
     "execution_count": 27,
     "metadata": {
      "tags": []
     },
     "output_type": "execute_result"
    }
   ],
   "source": [
    "df.mean(axis=1)"
   ]
  }
 ],
 "metadata": {
  "anaconda-cloud": {},
  "kernelspec": {
   "display_name": "Python 3.9 (tensorflow)",
   "language": "python",
   "name": "tensorflow"
  },
  "language_info": {
   "codemirror_mode": {
    "name": "ipython",
    "version": 3
   },
   "file_extension": ".py",
   "mimetype": "text/x-python",
   "name": "python",
   "nbconvert_exporter": "python",
   "pygments_lexer": "ipython3",
   "version": "3.9.7"
  }
 },
 "nbformat": 4,
 "nbformat_minor": 1
}
